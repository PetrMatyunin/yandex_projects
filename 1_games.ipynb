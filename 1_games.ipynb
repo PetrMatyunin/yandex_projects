{
 "cells": [
  {
   "cell_type": "markdown",
   "id": "e06910dd",
   "metadata": {
    "id": "e06910dd"
   },
   "source": [
    "# Анализ рынка игровой индустрии и вгровых платформ в период с 2000 по 2013 год\n",
    "\n",
    "- Автор: Матюнин Петр\n",
    "- Дата: 11.12.2024"
   ]
  },
  {
   "cell_type": "markdown",
   "id": "4149134c",
   "metadata": {
    "id": "4149134c"
   },
   "source": [
    "## Цели и задачи проекта ##\n",
    "\n",
    "Произвести обработку данных и произвести их анализ для последующего написания статьи о развитии игровой индустрии в начала XXI века.  \n",
    "    \n",
    "1) Сделать обзор игровых платформ\n",
    "2) Изучить объемы продаж игр разных жанров и региональные предпочтения игроков.\n"
   ]
  },
  {
   "cell_type": "markdown",
   "id": "728986ea",
   "metadata": {
    "id": "728986ea"
   },
   "source": [
    "## Описание данных\n",
    "\n",
    "\n",
    "В качестве базы для исследования, нам представлены исторические данные о продажах игр, сделанных в разных жанрах и выпущенных на разных платформах, а также пользовательские и экспертные оценки игр. Срез данных представлен за 1980 - 2016 года, однако, по запросу заказчика, анализ необходимо произвести на основе данных за 2000 - 2013 года.\n"
   ]
  },
  {
   "cell_type": "markdown",
   "id": "4fecaf95",
   "metadata": {
    "id": "4fecaf95"
   },
   "source": [
    "## Содержимое проекта\n",
    "\n",
    "1. Цели и задачи проекта\n",
    "2. Описание данных\n",
    "3. Содержимое проекта\n",
    "4. Загрузка данных и знакомство с ними\n",
    "5. Проверка ошибок в данных и их предобработка\n",
    "    1. Типы данных\n",
    "    2. Наличие пропусков в данных\n",
    "    3. Явные и неявные дубликаты в данных\n",
    "6. Фильтрация данных\n",
    "7. Категоризация данных\n",
    "8. Итоговый вывод\n",
    "\n",
    "   \n",
    "\n",
    "---"
   ]
  },
  {
   "cell_type": "markdown",
   "id": "6f7d21d6",
   "metadata": {
    "id": "6f7d21d6"
   },
   "source": [
    "## Загрузка данных и знакомство с ними"
   ]
  },
  {
   "cell_type": "markdown",
   "id": "b8d45352-7629-45cf-8325-bbd04d1c813a",
   "metadata": {},
   "source": [
    "Прежде чем производить анализ данных, подключим необходимые, для работы, библиотеки а так же получим данные и проверим насколько они соответствуют заявленным ожиданиям"
   ]
  },
  {
   "cell_type": "code",
   "execution_count": 1,
   "id": "ce87c1db",
   "metadata": {
    "id": "ce87c1db"
   },
   "outputs": [],
   "source": [
    "# используемые библиотеки\n",
    "import pandas as pd\n",
    "import numpy as np"
   ]
  },
  {
   "cell_type": "code",
   "execution_count": 2,
   "id": "bc13ce25",
   "metadata": {},
   "outputs": [],
   "source": [
    "# получение данных и формирование первичного датасета \n",
    "df = pd.read_csv('https://code.s3.yandex.net/datasets/new_games.csv')"
   ]
  },
  {
   "cell_type": "code",
   "execution_count": 3,
   "id": "216a92af",
   "metadata": {},
   "outputs": [
    {
     "data": {
      "text/html": [
       "<div>\n",
       "<style scoped>\n",
       "    .dataframe tbody tr th:only-of-type {\n",
       "        vertical-align: middle;\n",
       "    }\n",
       "\n",
       "    .dataframe tbody tr th {\n",
       "        vertical-align: top;\n",
       "    }\n",
       "\n",
       "    .dataframe thead th {\n",
       "        text-align: right;\n",
       "    }\n",
       "</style>\n",
       "<table border=\"1\" class=\"dataframe\">\n",
       "  <thead>\n",
       "    <tr style=\"text-align: right;\">\n",
       "      <th></th>\n",
       "      <th>Name</th>\n",
       "      <th>Platform</th>\n",
       "      <th>Year of Release</th>\n",
       "      <th>Genre</th>\n",
       "      <th>NA sales</th>\n",
       "      <th>EU sales</th>\n",
       "      <th>JP sales</th>\n",
       "      <th>Other sales</th>\n",
       "      <th>Critic Score</th>\n",
       "      <th>User Score</th>\n",
       "      <th>Rating</th>\n",
       "    </tr>\n",
       "  </thead>\n",
       "  <tbody>\n",
       "    <tr>\n",
       "      <th>0</th>\n",
       "      <td>Wii Sports</td>\n",
       "      <td>Wii</td>\n",
       "      <td>2006.0</td>\n",
       "      <td>Sports</td>\n",
       "      <td>41.36</td>\n",
       "      <td>28.96</td>\n",
       "      <td>3.77</td>\n",
       "      <td>8.45</td>\n",
       "      <td>76.0</td>\n",
       "      <td>8</td>\n",
       "      <td>E</td>\n",
       "    </tr>\n",
       "    <tr>\n",
       "      <th>1</th>\n",
       "      <td>Super Mario Bros.</td>\n",
       "      <td>NES</td>\n",
       "      <td>1985.0</td>\n",
       "      <td>Platform</td>\n",
       "      <td>29.08</td>\n",
       "      <td>3.58</td>\n",
       "      <td>6.81</td>\n",
       "      <td>0.77</td>\n",
       "      <td>NaN</td>\n",
       "      <td>NaN</td>\n",
       "      <td>NaN</td>\n",
       "    </tr>\n",
       "    <tr>\n",
       "      <th>2</th>\n",
       "      <td>Mario Kart Wii</td>\n",
       "      <td>Wii</td>\n",
       "      <td>2008.0</td>\n",
       "      <td>Racing</td>\n",
       "      <td>15.68</td>\n",
       "      <td>12.76</td>\n",
       "      <td>3.79</td>\n",
       "      <td>3.29</td>\n",
       "      <td>82.0</td>\n",
       "      <td>8.3</td>\n",
       "      <td>E</td>\n",
       "    </tr>\n",
       "    <tr>\n",
       "      <th>3</th>\n",
       "      <td>Wii Sports Resort</td>\n",
       "      <td>Wii</td>\n",
       "      <td>2009.0</td>\n",
       "      <td>Sports</td>\n",
       "      <td>15.61</td>\n",
       "      <td>10.93</td>\n",
       "      <td>3.28</td>\n",
       "      <td>2.95</td>\n",
       "      <td>80.0</td>\n",
       "      <td>8</td>\n",
       "      <td>E</td>\n",
       "    </tr>\n",
       "    <tr>\n",
       "      <th>4</th>\n",
       "      <td>Pokemon Red/Pokemon Blue</td>\n",
       "      <td>GB</td>\n",
       "      <td>1996.0</td>\n",
       "      <td>Role-Playing</td>\n",
       "      <td>11.27</td>\n",
       "      <td>8.89</td>\n",
       "      <td>10.22</td>\n",
       "      <td>1.00</td>\n",
       "      <td>NaN</td>\n",
       "      <td>NaN</td>\n",
       "      <td>NaN</td>\n",
       "    </tr>\n",
       "  </tbody>\n",
       "</table>\n",
       "</div>"
      ],
      "text/plain": [
       "                       Name Platform  Year of Release         Genre  NA sales  \\\n",
       "0                Wii Sports      Wii           2006.0        Sports     41.36   \n",
       "1         Super Mario Bros.      NES           1985.0      Platform     29.08   \n",
       "2            Mario Kart Wii      Wii           2008.0        Racing     15.68   \n",
       "3         Wii Sports Resort      Wii           2009.0        Sports     15.61   \n",
       "4  Pokemon Red/Pokemon Blue       GB           1996.0  Role-Playing     11.27   \n",
       "\n",
       "  EU sales JP sales  Other sales  Critic Score User Score Rating  \n",
       "0    28.96     3.77         8.45          76.0          8      E  \n",
       "1     3.58     6.81         0.77           NaN        NaN    NaN  \n",
       "2    12.76     3.79         3.29          82.0        8.3      E  \n",
       "3    10.93     3.28         2.95          80.0          8      E  \n",
       "4     8.89    10.22         1.00           NaN        NaN    NaN  "
      ]
     },
     "metadata": {},
     "output_type": "display_data"
    }
   ],
   "source": [
    "display(df.head())"
   ]
  },
  {
   "cell_type": "code",
   "execution_count": 4,
   "id": "90fee493",
   "metadata": {
    "id": "90fee493"
   },
   "outputs": [
    {
     "name": "stdout",
     "output_type": "stream",
     "text": [
      "Данные представлены с 1980.0 по 2016.0 года\n"
     ]
    }
   ],
   "source": [
    "# за какие года прдставлены данные\n",
    "min_release_year = df['Year of Release'].min()\n",
    "max_release_year = df['Year of Release'].max()\n",
    "print(f'Данные представлены с {min_release_year} по {max_release_year} года')"
   ]
  },
  {
   "cell_type": "code",
   "execution_count": 5,
   "id": "3937acf7",
   "metadata": {
    "id": "3937acf7"
   },
   "outputs": [
    {
     "name": "stdout",
     "output_type": "stream",
     "text": [
      "<class 'pandas.core.frame.DataFrame'>\n",
      "RangeIndex: 16956 entries, 0 to 16955\n",
      "Data columns (total 11 columns):\n",
      " #   Column           Non-Null Count  Dtype  \n",
      "---  ------           --------------  -----  \n",
      " 0   Name             16954 non-null  object \n",
      " 1   Platform         16956 non-null  object \n",
      " 2   Year of Release  16681 non-null  float64\n",
      " 3   Genre            16954 non-null  object \n",
      " 4   NA sales         16956 non-null  float64\n",
      " 5   EU sales         16956 non-null  object \n",
      " 6   JP sales         16956 non-null  object \n",
      " 7   Other sales      16956 non-null  float64\n",
      " 8   Critic Score     8242 non-null   float64\n",
      " 9   User Score       10152 non-null  object \n",
      " 10  Rating           10085 non-null  object \n",
      "dtypes: float64(4), object(7)\n",
      "memory usage: 1.4+ MB\n"
     ]
    }
   ],
   "source": [
    "df.info()"
   ]
  },
  {
   "cell_type": "code",
   "execution_count": 6,
   "id": "d4595618",
   "metadata": {},
   "outputs": [
    {
     "data": {
      "text/html": [
       "<div>\n",
       "<style scoped>\n",
       "    .dataframe tbody tr th:only-of-type {\n",
       "        vertical-align: middle;\n",
       "    }\n",
       "\n",
       "    .dataframe tbody tr th {\n",
       "        vertical-align: top;\n",
       "    }\n",
       "\n",
       "    .dataframe thead th {\n",
       "        text-align: right;\n",
       "    }\n",
       "</style>\n",
       "<table border=\"1\" class=\"dataframe\">\n",
       "  <thead>\n",
       "    <tr style=\"text-align: right;\">\n",
       "      <th></th>\n",
       "      <th>Name</th>\n",
       "      <th>Platform</th>\n",
       "      <th>Year of Release</th>\n",
       "      <th>Genre</th>\n",
       "      <th>NA sales</th>\n",
       "      <th>EU sales</th>\n",
       "      <th>JP sales</th>\n",
       "      <th>Other sales</th>\n",
       "      <th>Critic Score</th>\n",
       "      <th>User Score</th>\n",
       "      <th>Rating</th>\n",
       "    </tr>\n",
       "  </thead>\n",
       "  <tbody>\n",
       "    <tr>\n",
       "      <th>0</th>\n",
       "      <td>Wii Sports</td>\n",
       "      <td>Wii</td>\n",
       "      <td>2006.0</td>\n",
       "      <td>Sports</td>\n",
       "      <td>41.36</td>\n",
       "      <td>28.96</td>\n",
       "      <td>3.77</td>\n",
       "      <td>8.45</td>\n",
       "      <td>76.0</td>\n",
       "      <td>8</td>\n",
       "      <td>E</td>\n",
       "    </tr>\n",
       "    <tr>\n",
       "      <th>1</th>\n",
       "      <td>Super Mario Bros.</td>\n",
       "      <td>NES</td>\n",
       "      <td>1985.0</td>\n",
       "      <td>Platform</td>\n",
       "      <td>29.08</td>\n",
       "      <td>3.58</td>\n",
       "      <td>6.81</td>\n",
       "      <td>0.77</td>\n",
       "      <td>NaN</td>\n",
       "      <td>NaN</td>\n",
       "      <td>NaN</td>\n",
       "    </tr>\n",
       "    <tr>\n",
       "      <th>2</th>\n",
       "      <td>Mario Kart Wii</td>\n",
       "      <td>Wii</td>\n",
       "      <td>2008.0</td>\n",
       "      <td>Racing</td>\n",
       "      <td>15.68</td>\n",
       "      <td>12.76</td>\n",
       "      <td>3.79</td>\n",
       "      <td>3.29</td>\n",
       "      <td>82.0</td>\n",
       "      <td>8.3</td>\n",
       "      <td>E</td>\n",
       "    </tr>\n",
       "    <tr>\n",
       "      <th>3</th>\n",
       "      <td>Wii Sports Resort</td>\n",
       "      <td>Wii</td>\n",
       "      <td>2009.0</td>\n",
       "      <td>Sports</td>\n",
       "      <td>15.61</td>\n",
       "      <td>10.93</td>\n",
       "      <td>3.28</td>\n",
       "      <td>2.95</td>\n",
       "      <td>80.0</td>\n",
       "      <td>8</td>\n",
       "      <td>E</td>\n",
       "    </tr>\n",
       "    <tr>\n",
       "      <th>4</th>\n",
       "      <td>Pokemon Red/Pokemon Blue</td>\n",
       "      <td>GB</td>\n",
       "      <td>1996.0</td>\n",
       "      <td>Role-Playing</td>\n",
       "      <td>11.27</td>\n",
       "      <td>8.89</td>\n",
       "      <td>10.22</td>\n",
       "      <td>1.00</td>\n",
       "      <td>NaN</td>\n",
       "      <td>NaN</td>\n",
       "      <td>NaN</td>\n",
       "    </tr>\n",
       "  </tbody>\n",
       "</table>\n",
       "</div>"
      ],
      "text/plain": [
       "                       Name Platform  Year of Release         Genre  NA sales  \\\n",
       "0                Wii Sports      Wii           2006.0        Sports     41.36   \n",
       "1         Super Mario Bros.      NES           1985.0      Platform     29.08   \n",
       "2            Mario Kart Wii      Wii           2008.0        Racing     15.68   \n",
       "3         Wii Sports Resort      Wii           2009.0        Sports     15.61   \n",
       "4  Pokemon Red/Pokemon Blue       GB           1996.0  Role-Playing     11.27   \n",
       "\n",
       "  EU sales JP sales  Other sales  Critic Score User Score Rating  \n",
       "0    28.96     3.77         8.45          76.0          8      E  \n",
       "1     3.58     6.81         0.77           NaN        NaN    NaN  \n",
       "2    12.76     3.79         3.29          82.0        8.3      E  \n",
       "3    10.93     3.28         2.95          80.0          8      E  \n",
       "4     8.89    10.22         1.00           NaN        NaN    NaN  "
      ]
     },
     "metadata": {},
     "output_type": "display_data"
    }
   ],
   "source": [
    "display(df.head())"
   ]
  },
  {
   "cell_type": "code",
   "execution_count": 7,
   "id": "b6963cc5-77d2-4b8a-997c-6f3a88d43742",
   "metadata": {},
   "outputs": [
    {
     "data": {
      "text/html": [
       "<div>\n",
       "<style scoped>\n",
       "    .dataframe tbody tr th:only-of-type {\n",
       "        vertical-align: middle;\n",
       "    }\n",
       "\n",
       "    .dataframe tbody tr th {\n",
       "        vertical-align: top;\n",
       "    }\n",
       "\n",
       "    .dataframe thead th {\n",
       "        text-align: right;\n",
       "    }\n",
       "</style>\n",
       "<table border=\"1\" class=\"dataframe\">\n",
       "  <thead>\n",
       "    <tr style=\"text-align: right;\">\n",
       "      <th></th>\n",
       "      <th>Name</th>\n",
       "      <th>Platform</th>\n",
       "      <th>Year of Release</th>\n",
       "      <th>Genre</th>\n",
       "      <th>NA sales</th>\n",
       "      <th>EU sales</th>\n",
       "      <th>JP sales</th>\n",
       "      <th>Other sales</th>\n",
       "      <th>Critic Score</th>\n",
       "      <th>User Score</th>\n",
       "      <th>Rating</th>\n",
       "    </tr>\n",
       "  </thead>\n",
       "  <tbody>\n",
       "    <tr>\n",
       "      <th>5332</th>\n",
       "      <td>LocoRoco 2</td>\n",
       "      <td>PSP</td>\n",
       "      <td>2008.0</td>\n",
       "      <td>Platform</td>\n",
       "      <td>0.21</td>\n",
       "      <td>0.09</td>\n",
       "      <td>0.01</td>\n",
       "      <td>0.04</td>\n",
       "      <td>85.0</td>\n",
       "      <td>8.4</td>\n",
       "      <td>E</td>\n",
       "    </tr>\n",
       "    <tr>\n",
       "      <th>5737</th>\n",
       "      <td>Test Drive Unlimited</td>\n",
       "      <td>X360</td>\n",
       "      <td>2006.0</td>\n",
       "      <td>Racing</td>\n",
       "      <td>0.23</td>\n",
       "      <td>0.04</td>\n",
       "      <td>0.02</td>\n",
       "      <td>0.02</td>\n",
       "      <td>82.0</td>\n",
       "      <td>8</td>\n",
       "      <td>E10+</td>\n",
       "    </tr>\n",
       "    <tr>\n",
       "      <th>6763</th>\n",
       "      <td>Hybrid Heaven</td>\n",
       "      <td>N64</td>\n",
       "      <td>1999.0</td>\n",
       "      <td>Role-Playing</td>\n",
       "      <td>0.16</td>\n",
       "      <td>0.04</td>\n",
       "      <td>0.05</td>\n",
       "      <td>0.00</td>\n",
       "      <td>NaN</td>\n",
       "      <td>NaN</td>\n",
       "      <td>NaN</td>\n",
       "    </tr>\n",
       "  </tbody>\n",
       "</table>\n",
       "</div>"
      ],
      "text/plain": [
       "                      Name Platform  Year of Release         Genre  NA sales  \\\n",
       "5332            LocoRoco 2      PSP           2008.0      Platform      0.21   \n",
       "5737  Test Drive Unlimited     X360           2006.0        Racing      0.23   \n",
       "6763         Hybrid Heaven      N64           1999.0  Role-Playing      0.16   \n",
       "\n",
       "     EU sales JP sales  Other sales  Critic Score User Score Rating  \n",
       "5332     0.09     0.01         0.04          85.0        8.4      E  \n",
       "5737     0.04     0.02         0.02          82.0          8   E10+  \n",
       "6763     0.04     0.05         0.00           NaN        NaN    NaN  "
      ]
     },
     "metadata": {},
     "output_type": "display_data"
    }
   ],
   "source": [
    "display(df.sample(3))"
   ]
  },
  {
   "cell_type": "code",
   "execution_count": 8,
   "id": "2ddd85b8-9428-4f2d-8fe0-b01032582b89",
   "metadata": {},
   "outputs": [
    {
     "data": {
      "text/html": [
       "<style type=\"text/css\">\n",
       "#T_6f0bb_row0_col0 {\n",
       "  background-color: #b40426;\n",
       "  color: #f1f1f1;\n",
       "}\n",
       "#T_6f0bb_row1_col0 {\n",
       "  background-color: #f08a6c;\n",
       "  color: #f1f1f1;\n",
       "}\n",
       "#T_6f0bb_row2_col0 {\n",
       "  background-color: #f18d6f;\n",
       "  color: #f1f1f1;\n",
       "}\n",
       "#T_6f0bb_row3_col0 {\n",
       "  background-color: #445acc;\n",
       "  color: #f1f1f1;\n",
       "}\n",
       "#T_6f0bb_row4_col0, #T_6f0bb_row5_col0, #T_6f0bb_row6_col0, #T_6f0bb_row7_col0, #T_6f0bb_row8_col0, #T_6f0bb_row9_col0, #T_6f0bb_row10_col0 {\n",
       "  background-color: #3b4cc0;\n",
       "  color: #f1f1f1;\n",
       "}\n",
       "</style>\n",
       "<table id=\"T_6f0bb\">\n",
       "  <thead>\n",
       "    <tr>\n",
       "      <th class=\"blank level0\" >&nbsp;</th>\n",
       "      <th id=\"T_6f0bb_level0_col0\" class=\"col_heading level0 col0\" >0</th>\n",
       "    </tr>\n",
       "  </thead>\n",
       "  <tbody>\n",
       "    <tr>\n",
       "      <th id=\"T_6f0bb_level0_row0\" class=\"row_heading level0 row0\" >Critic Score</th>\n",
       "      <td id=\"T_6f0bb_row0_col0\" class=\"data row0 col0\" >0.51</td>\n",
       "    </tr>\n",
       "    <tr>\n",
       "      <th id=\"T_6f0bb_level0_row1\" class=\"row_heading level0 row1\" >Rating</th>\n",
       "      <td id=\"T_6f0bb_row1_col0\" class=\"data row1 col0\" >0.41</td>\n",
       "    </tr>\n",
       "    <tr>\n",
       "      <th id=\"T_6f0bb_level0_row2\" class=\"row_heading level0 row2\" >User Score</th>\n",
       "      <td id=\"T_6f0bb_row2_col0\" class=\"data row2 col0\" >0.40</td>\n",
       "    </tr>\n",
       "    <tr>\n",
       "      <th id=\"T_6f0bb_level0_row3\" class=\"row_heading level0 row3\" >Year of Release</th>\n",
       "      <td id=\"T_6f0bb_row3_col0\" class=\"data row3 col0\" >0.02</td>\n",
       "    </tr>\n",
       "    <tr>\n",
       "      <th id=\"T_6f0bb_level0_row4\" class=\"row_heading level0 row4\" >Name</th>\n",
       "      <td id=\"T_6f0bb_row4_col0\" class=\"data row4 col0\" >0.00</td>\n",
       "    </tr>\n",
       "    <tr>\n",
       "      <th id=\"T_6f0bb_level0_row5\" class=\"row_heading level0 row5\" >Genre</th>\n",
       "      <td id=\"T_6f0bb_row5_col0\" class=\"data row5 col0\" >0.00</td>\n",
       "    </tr>\n",
       "    <tr>\n",
       "      <th id=\"T_6f0bb_level0_row6\" class=\"row_heading level0 row6\" >Platform</th>\n",
       "      <td id=\"T_6f0bb_row6_col0\" class=\"data row6 col0\" >0.00</td>\n",
       "    </tr>\n",
       "    <tr>\n",
       "      <th id=\"T_6f0bb_level0_row7\" class=\"row_heading level0 row7\" >NA sales</th>\n",
       "      <td id=\"T_6f0bb_row7_col0\" class=\"data row7 col0\" >0.00</td>\n",
       "    </tr>\n",
       "    <tr>\n",
       "      <th id=\"T_6f0bb_level0_row8\" class=\"row_heading level0 row8\" >EU sales</th>\n",
       "      <td id=\"T_6f0bb_row8_col0\" class=\"data row8 col0\" >0.00</td>\n",
       "    </tr>\n",
       "    <tr>\n",
       "      <th id=\"T_6f0bb_level0_row9\" class=\"row_heading level0 row9\" >JP sales</th>\n",
       "      <td id=\"T_6f0bb_row9_col0\" class=\"data row9 col0\" >0.00</td>\n",
       "    </tr>\n",
       "    <tr>\n",
       "      <th id=\"T_6f0bb_level0_row10\" class=\"row_heading level0 row10\" >Other sales</th>\n",
       "      <td id=\"T_6f0bb_row10_col0\" class=\"data row10 col0\" >0.00</td>\n",
       "    </tr>\n",
       "  </tbody>\n",
       "</table>\n"
      ],
      "text/plain": [
       "<pandas.io.formats.style.Styler at 0x7ce3b20d9c90>"
      ]
     },
     "metadata": {},
     "output_type": "display_data"
    }
   ],
   "source": [
    "print('Поля и относительная доля пропусков в них')\n",
    "display(df.isna().mean().to_frame().sort_values(by=0, ascending=False).style.background_gradient(cmap='coolwarm', axis=0).format(\"{:.2f}\"))"
   ]
  },
  {
   "cell_type": "markdown",
   "id": "79a2b086",
   "metadata": {
    "id": "191981db"
   },
   "source": [
    "По первому взгляду на полученные данные мы можем составить первоначальное мнение. Датасет содержит **11 столбцов** и **16 956 строк**\n",
    "данных. Из них **4 столбца** типа **float** и **7 столбцов** типа **object**.   \n",
    "Обратив внимание на типы данных, можно заметить что не все столбцы\n",
    "содержат удобный, для работы, формат данных. Таким образом необходимо поменять форматы столбцов год релиза (*Year of Release*),\n",
    "продажи в Европе (*EU sales*), продажи в Японии (*JP sales*), оценки пользователей (*User Score*). Наименования столбцов необходимо\n",
    "преобразовать в рабучую форму типа *snake case*.   \n",
    "    **Данные представлены за 1980 по 2016 года**, тогда как анализ *необходимо провести* за\n",
    "**период с 2000 по 2013 года**, а значит необходимо провести фильтрацию данных.   \n",
    "Так же данные *содержат много пропусков*. Столбец года релиза\n",
    "содержит всего **2% пропусков**, тогда как столбцы с оценками критиков, пользователей а так же **столбец с рейтингом содержат от 40 до\n",
    "51% пропусков**, что является крайне большим показателем."
   ]
  },
  {
   "cell_type": "markdown",
   "id": "774bf76e",
   "metadata": {
    "id": "774bf76e"
   },
   "source": [
    "---\n",
    "\n",
    "## Проверка ошибок в данных и их предобработка\n",
    "\n"
   ]
  },
  {
   "cell_type": "markdown",
   "id": "5cf9549f-cdcf-4459-8002-de11d5929b40",
   "metadata": {},
   "source": [
    "Прежде чем приступать к анализу, нам так же необходимо произвести предъобработку данных"
   ]
  },
  {
   "cell_type": "code",
   "execution_count": 9,
   "id": "d3f8ae96",
   "metadata": {},
   "outputs": [
    {
     "data": {
      "text/plain": [
       "Name                  2\n",
       "Platform              0\n",
       "Year of Release     275\n",
       "Genre                 2\n",
       "NA sales              0\n",
       "EU sales              0\n",
       "JP sales              0\n",
       "Other sales           0\n",
       "Critic Score       8714\n",
       "User Score         6804\n",
       "Rating             6871\n",
       "dtype: int64"
      ]
     },
     "metadata": {},
     "output_type": "display_data"
    }
   ],
   "source": [
    "# Пропуски в абсолютных значениях\n",
    "display(df.isna().sum())"
   ]
  },
  {
   "cell_type": "code",
   "execution_count": 10,
   "id": "0836c397",
   "metadata": {},
   "outputs": [
    {
     "data": {
      "text/plain": [
       "Name               0.00\n",
       "Platform           0.00\n",
       "Year of Release    0.02\n",
       "Genre              0.00\n",
       "NA sales           0.00\n",
       "EU sales           0.00\n",
       "JP sales           0.00\n",
       "Other sales        0.00\n",
       "Critic Score       0.51\n",
       "User Score         0.40\n",
       "Rating             0.41\n",
       "dtype: float64"
      ]
     },
     "metadata": {},
     "output_type": "display_data"
    }
   ],
   "source": [
    "# Пропуски в долевых значениях\n",
    "display(round(df.isna().mean(), 2))"
   ]
  },
  {
   "cell_type": "code",
   "execution_count": 11,
   "id": "b9276a2b",
   "metadata": {
    "id": "b9276a2b"
   },
   "outputs": [
    {
     "data": {
      "text/plain": [
       "Index(['Name', 'Platform', 'Year of Release', 'Genre', 'NA sales', 'EU sales',\n",
       "       'JP sales', 'Other sales', 'Critic Score', 'User Score', 'Rating'],\n",
       "      dtype='object')"
      ]
     },
     "execution_count": 11,
     "metadata": {},
     "output_type": "execute_result"
    }
   ],
   "source": [
    "# Названия полей\n",
    "df.columns"
   ]
  },
  {
   "cell_type": "code",
   "execution_count": 12,
   "id": "d554563c",
   "metadata": {
    "id": "d554563c"
   },
   "outputs": [
    {
     "data": {
      "text/plain": [
       "Index(['name', 'platform', 'year_of_release', 'genre', 'na_sales', 'eu_sales',\n",
       "       'jp_sales', 'other_sales', 'critic_score', 'user_score', 'rating'],\n",
       "      dtype='object')"
      ]
     },
     "execution_count": 12,
     "metadata": {},
     "output_type": "execute_result"
    }
   ],
   "source": [
    "# Приведение названий полей к единому формату\n",
    "df.columns = [x.lower().replace(' ', '_') for x in df.columns.values]\n",
    "df.columns"
   ]
  },
  {
   "cell_type": "code",
   "execution_count": 13,
   "id": "87b573dd",
   "metadata": {
    "id": "87b573dd"
   },
   "outputs": [
    {
     "data": {
      "text/plain": [
       "name                  2\n",
       "platform              0\n",
       "year_of_release     275\n",
       "genre                 2\n",
       "na_sales              0\n",
       "eu_sales              0\n",
       "jp_sales              0\n",
       "other_sales           0\n",
       "critic_score       8714\n",
       "user_score         6804\n",
       "rating             6871\n",
       "dtype: int64"
      ]
     },
     "execution_count": 13,
     "metadata": {},
     "output_type": "execute_result"
    }
   ],
   "source": [
    "df.isna().sum()"
   ]
  },
  {
   "cell_type": "markdown",
   "id": "41bc6bf8",
   "metadata": {
    "id": "41bc6bf8"
   },
   "source": [
    "### Типы данных\n"
   ]
  },
  {
   "cell_type": "code",
   "execution_count": 14,
   "id": "44765466",
   "metadata": {},
   "outputs": [
    {
     "data": {
      "text/plain": [
       "array(['0.0', '0.01', '0.02', '0.03', '0.04', '0.05', '0.06', '0.07',\n",
       "       '0.08', '0.09', '0.1', '0.11', '0.12', '0.13', '0.14', '0.15',\n",
       "       '0.16', '0.17', '0.18', '0.19', '0.2', '0.21', '0.22', '0.23',\n",
       "       '0.24', '0.25', '0.26', '0.27', '0.28', '0.29', '0.3', '0.31',\n",
       "       '0.32', '0.33', '0.34', '0.35', '0.36', '0.37', '0.38', '0.39',\n",
       "       '0.4', '0.41', '0.42', '0.43', '0.44', '0.45', '0.46', '0.47',\n",
       "       '0.48', '0.49', '0.5', '0.51', '0.52', '0.53', '0.54', '0.55',\n",
       "       '0.56', '0.57', '0.58', '0.59', '0.6', '0.61', '0.62', '0.63',\n",
       "       '0.64', '0.65', '0.66', '0.67', '0.68', '0.69', '0.7', '0.71',\n",
       "       '0.72', '0.73', '0.74', '0.75', '0.76', '0.77', '0.78', '0.79',\n",
       "       '0.8', '0.81', '0.82', '0.83', '0.84', '0.85', '0.86', '0.87',\n",
       "       '0.88', '0.89', '0.9', '0.91', '0.92', '0.93', '0.94', '0.95',\n",
       "       '0.96', '0.97', '0.98', '0.99', '1.0', '1.01', '1.02', '1.03',\n",
       "       '1.04', '1.05', '1.06', '1.07', '1.08', '1.09', '1.1', '1.11',\n",
       "       '1.12', '1.13', '1.14', '1.15', '1.16', '1.17', '1.18', '1.19',\n",
       "       '1.2', '1.21', '1.24', '1.25', '1.26', '1.27', '1.28', '1.29',\n",
       "       '1.3', '1.31', '1.32', '1.33', '1.34', '1.35', '1.36', '1.37',\n",
       "       '1.38', '1.39', '1.4', '1.42', '1.44', '1.45', '1.46', '1.48',\n",
       "       '1.49', '1.5', '1.51', '1.52', '1.53', '1.54', '1.56', '1.57',\n",
       "       '1.58', '1.6', '1.61', '1.63', '1.65', '1.69', '1.7', '1.71',\n",
       "       '1.75', '1.76', '1.81', '1.87', '1.9', '1.91', '1.93', '1.96',\n",
       "       '1.97', '1.98', '10.22', '2.0', '2.02', '2.05', '2.06', '2.1',\n",
       "       '2.11', '2.12', '2.13', '2.14', '2.17', '2.2', '2.23', '2.26',\n",
       "       '2.29', '2.32', '2.33', '2.34', '2.35', '2.41', '2.43', '2.46',\n",
       "       '2.47', '2.49', '2.53', '2.54', '2.55', '2.62', '2.65', '2.66',\n",
       "       '2.68', '2.69', '2.73', '2.78', '2.79', '2.87', '2.93', '3.0',\n",
       "       '3.03', '3.1', '3.12', '3.14', '3.15', '3.18', '3.19', '3.28',\n",
       "       '3.44', '3.54', '3.6', '3.61', '3.63', '3.67', '3.77', '3.79',\n",
       "       '3.81', '3.84', '3.96', '4.1', '4.13', '4.16', '4.18', '4.22',\n",
       "       '4.35', '4.39', '4.7', '4.87', '5.32', '5.33', '5.38', '5.65',\n",
       "       '6.04', '6.5', '6.81', '7.2', 'unknown'], dtype=object)"
      ]
     },
     "metadata": {},
     "output_type": "display_data"
    }
   ],
   "source": [
    "#Находим текстовые значения в данных. Таким же образом ищем текстовые значения в других столбцах и следующим шагом удаляем их\n",
    "display(df['jp_sales'].sort_values().unique())"
   ]
  },
  {
   "cell_type": "code",
   "execution_count": 15,
   "id": "8adaac81",
   "metadata": {
    "id": "8adaac81"
   },
   "outputs": [
    {
     "data": {
      "text/plain": [
       "name                  0\n",
       "platform              0\n",
       "year_of_release       0\n",
       "genre                 0\n",
       "na_sales              0\n",
       "eu_sales              0\n",
       "jp_sales              0\n",
       "other_sales           0\n",
       "critic_score       8594\n",
       "user_score         6705\n",
       "rating             6778\n",
       "dtype: int64"
      ]
     },
     "metadata": {},
     "output_type": "display_data"
    }
   ],
   "source": [
    "df = df.dropna(subset=['name', 'platform', 'eu_sales', 'jp_sales', 'year_of_release'])\n",
    "display(df.isna().sum())"
   ]
  },
  {
   "cell_type": "code",
   "execution_count": 16,
   "id": "7ef69be2",
   "metadata": {},
   "outputs": [
    {
     "data": {
      "text/plain": [
       "array(['0.0', '0.01', '0.02', '0.03', '0.04', '0.05', '0.06', '0.07',\n",
       "       '0.08', '0.09', '0.1', '0.11', '0.12', '0.13', '0.14', '0.15',\n",
       "       '0.16', '0.17', '0.18', '0.19', '0.2', '0.21', '0.22', '0.23',\n",
       "       '0.24', '0.25', '0.26', '0.27', '0.28', '0.29', '0.3', '0.31',\n",
       "       '0.32', '0.33', '0.34', '0.35', '0.36', '0.37', '0.38', '0.39',\n",
       "       '0.4', '0.41', '0.42', '0.43', '0.44', '0.45', '0.46', '0.47',\n",
       "       '0.48', '0.49', '0.5', '0.51', '0.52', '0.53', '0.54', '0.55',\n",
       "       '0.56', '0.57', '0.58', '0.59', '0.6', '0.61', '0.62', '0.63',\n",
       "       '0.64', '0.65', '0.66', '0.67', '0.68', '0.69', '0.7', '0.71',\n",
       "       '0.72', '0.73', '0.74', '0.75', '0.76', '0.77', '0.78', '0.79',\n",
       "       '0.8', '0.81', '0.82', '0.83', '0.84', '0.85', '0.86', '0.87',\n",
       "       '0.88', '0.89', '0.9', '0.91', '0.92', '0.93', '0.94', '0.95',\n",
       "       '0.96', '0.97', '0.98', '0.99', '1.0', '1.01', '1.02', '1.03',\n",
       "       '1.04', '1.05', '1.06', '1.07', '1.08', '1.09', '1.1', '1.11',\n",
       "       '1.12', '1.13', '1.14', '1.15', '1.16', '1.17', '1.18', '1.19',\n",
       "       '1.2', '1.21', '1.22', '1.23', '1.24', '1.25', '1.26', '1.27',\n",
       "       '1.28', '1.29', '1.3', '1.31', '1.32', '1.33', '1.34', '1.35',\n",
       "       '1.36', '1.37', '1.38', '1.39', '1.4', '1.41', '1.42', '1.43',\n",
       "       '1.44', '1.45', '1.46', '1.47', '1.48', '1.49', '1.5', '1.51',\n",
       "       '1.52', '1.53', '1.55', '1.56', '1.57', '1.58', '1.59', '1.6',\n",
       "       '1.62', '1.63', '1.64', '1.65', '1.67', '1.68', '1.69', '1.7',\n",
       "       '1.71', '1.72', '1.73', '1.75', '1.76', '1.77', '1.79', '1.8',\n",
       "       '1.82', '1.83', '1.84', '1.85', '1.87', '1.88', '1.89', '1.9',\n",
       "       '1.91', '1.92', '1.93', '1.94', '1.95', '1.96', '1.97', '1.98',\n",
       "       '1.99', '10.93', '10.95', '12.76', '2.0', '2.01', '2.02', '2.04',\n",
       "       '2.05', '2.07', '2.1', '2.11', '2.12', '2.13', '2.14', '2.15',\n",
       "       '2.16', '2.17', '2.18', '2.19', '2.2', '2.22', '2.23', '2.24',\n",
       "       '2.26', '2.27', '2.28', '2.29', '2.3', '2.35', '2.36', '2.37',\n",
       "       '2.39', '2.43', '2.45', '2.46', '2.47', '2.48', '2.5', '2.52',\n",
       "       '2.53', '2.55', '2.56', '2.59', '2.6', '2.65', '2.71', '2.75',\n",
       "       '2.78', '2.79', '2.8', '2.81', '2.83', '2.85', '2.89', '2.99',\n",
       "       '28.96', '3.0', '3.02', '3.07', '3.11', '3.14', '3.17', '3.27',\n",
       "       '3.28', '3.35', '3.42', '3.44', '3.45', '3.47', '3.48', '3.49',\n",
       "       '3.58', '3.59', '3.63', '3.64', '3.68', '3.69', '3.75', '3.86',\n",
       "       '3.87', '3.9', '4.02', '4.19', '4.24', '4.3', '4.33', '4.37',\n",
       "       '4.46', '4.51', '4.82', '4.89', '5.01', '5.04', '5.09', '5.14',\n",
       "       '5.35', '5.49', '5.73', '5.75', '5.86', '6.12', '6.18', '6.21',\n",
       "       '6.31', '6.42', '6.94', '7.47', '8.03', '8.49', '8.89', '9.09',\n",
       "       '9.14', '9.18', '9.2', 'unknown'], dtype=object)"
      ]
     },
     "metadata": {},
     "output_type": "display_data"
    }
   ],
   "source": [
    "display(df['eu_sales'].sort_values().unique())"
   ]
  },
  {
   "cell_type": "code",
   "execution_count": 17,
   "id": "79c13b3c",
   "metadata": {},
   "outputs": [
    {
     "name": "stdout",
     "output_type": "stream",
     "text": [
      "<class 'pandas.core.frame.DataFrame'>\n",
      "Index: 16679 entries, 0 to 16955\n",
      "Data columns (total 11 columns):\n",
      " #   Column           Non-Null Count  Dtype  \n",
      "---  ------           --------------  -----  \n",
      " 0   name             16679 non-null  object \n",
      " 1   platform         16679 non-null  object \n",
      " 2   year_of_release  16679 non-null  float64\n",
      " 3   genre            16679 non-null  object \n",
      " 4   na_sales         16679 non-null  float64\n",
      " 5   eu_sales         16679 non-null  object \n",
      " 6   jp_sales         16679 non-null  object \n",
      " 7   other_sales      16679 non-null  float64\n",
      " 8   critic_score     8085 non-null   float64\n",
      " 9   user_score       9974 non-null   object \n",
      " 10  rating           9901 non-null   object \n",
      "dtypes: float64(4), object(7)\n",
      "memory usage: 1.5+ MB\n"
     ]
    }
   ],
   "source": [
    "df.info()"
   ]
  },
  {
   "cell_type": "code",
   "execution_count": 18,
   "id": "9e53cff4",
   "metadata": {
    "id": "9e53cff4"
   },
   "outputs": [],
   "source": [
    "#Приводим столбец critic_score к типу данных int\n",
    "df[['year_of_release', 'critic_score']] = df[['year_of_release', 'critic_score']].astype('Int64')"
   ]
  },
  {
   "cell_type": "code",
   "execution_count": 19,
   "id": "3a26fb26",
   "metadata": {
    "id": "3a26fb26"
   },
   "outputs": [
    {
     "name": "stdout",
     "output_type": "stream",
     "text": [
      "<class 'pandas.core.frame.DataFrame'>\n",
      "Index: 16679 entries, 0 to 16955\n",
      "Data columns (total 11 columns):\n",
      " #   Column           Non-Null Count  Dtype  \n",
      "---  ------           --------------  -----  \n",
      " 0   name             16679 non-null  object \n",
      " 1   platform         16679 non-null  object \n",
      " 2   year_of_release  16679 non-null  Int64  \n",
      " 3   genre            16679 non-null  object \n",
      " 4   na_sales         16679 non-null  float64\n",
      " 5   eu_sales         16673 non-null  float64\n",
      " 6   jp_sales         16675 non-null  float64\n",
      " 7   other_sales      16679 non-null  float64\n",
      " 8   critic_score     8085 non-null   Int64  \n",
      " 9   user_score       7558 non-null   float64\n",
      " 10  rating           9901 non-null   object \n",
      "dtypes: Int64(2), float64(5), object(4)\n",
      "memory usage: 1.6+ MB\n"
     ]
    }
   ],
   "source": [
    "#Заменяем текстовые значения на пропуски и заменяем типы данных\n",
    "df['eu_sales'] = df['eu_sales'].replace('unknown', np.nan)\n",
    "df['jp_sales'] = df['jp_sales'].replace('unknown', np.nan)\n",
    "df['user_score'] = df['user_score'].replace('tbd', np.nan)\n",
    "df[['eu_sales', 'jp_sales', 'user_score']] = df[['eu_sales', 'jp_sales', 'user_score']].astype('float64')\n",
    "\n",
    "df.info()"
   ]
  },
  {
   "cell_type": "code",
   "execution_count": 20,
   "id": "c6a9c9f2",
   "metadata": {},
   "outputs": [],
   "source": [
    "def sales_filling(x):\n",
    "    if x['eu_sales'] == np.nan:\n",
    "        return df['eu_sales'].mean()\n",
    "    else:\n",
    "        return x['eu_sales']\n",
    "df['eu_sales'] = df.apply(sales_filling, axis=1)"
   ]
  },
  {
   "cell_type": "code",
   "execution_count": 21,
   "id": "fa49443d",
   "metadata": {},
   "outputs": [
    {
     "data": {
      "text/plain": [
       "array([0.000e+00, 1.000e-02, 2.000e-02, 3.000e-02, 4.000e-02, 5.000e-02,\n",
       "       6.000e-02, 7.000e-02, 8.000e-02, 9.000e-02, 1.000e-01, 1.100e-01,\n",
       "       1.200e-01, 1.300e-01, 1.400e-01, 1.500e-01, 1.600e-01, 1.700e-01,\n",
       "       1.800e-01, 1.900e-01, 2.000e-01, 2.100e-01, 2.200e-01, 2.300e-01,\n",
       "       2.400e-01, 2.500e-01, 2.600e-01, 2.700e-01, 2.800e-01, 2.900e-01,\n",
       "       3.000e-01, 3.100e-01, 3.200e-01, 3.300e-01, 3.400e-01, 3.500e-01,\n",
       "       3.600e-01, 3.700e-01, 3.800e-01, 3.900e-01, 4.000e-01, 4.100e-01,\n",
       "       4.200e-01, 4.300e-01, 4.400e-01, 4.500e-01, 4.600e-01, 4.700e-01,\n",
       "       4.800e-01, 4.900e-01, 5.000e-01, 5.100e-01, 5.200e-01, 5.300e-01,\n",
       "       5.400e-01, 5.500e-01, 5.600e-01, 5.700e-01, 5.800e-01, 5.900e-01,\n",
       "       6.000e-01, 6.100e-01, 6.200e-01, 6.300e-01, 6.400e-01, 6.500e-01,\n",
       "       6.600e-01, 6.700e-01, 6.800e-01, 6.900e-01, 7.000e-01, 7.100e-01,\n",
       "       7.200e-01, 7.300e-01, 7.400e-01, 7.500e-01, 7.600e-01, 7.700e-01,\n",
       "       7.800e-01, 7.900e-01, 8.000e-01, 8.100e-01, 8.200e-01, 8.300e-01,\n",
       "       8.400e-01, 8.500e-01, 8.600e-01, 8.700e-01, 8.800e-01, 8.900e-01,\n",
       "       9.000e-01, 9.100e-01, 9.200e-01, 9.300e-01, 9.400e-01, 9.500e-01,\n",
       "       9.600e-01, 9.700e-01, 9.800e-01, 9.900e-01, 1.000e+00, 1.010e+00,\n",
       "       1.020e+00, 1.030e+00, 1.040e+00, 1.050e+00, 1.060e+00, 1.070e+00,\n",
       "       1.080e+00, 1.090e+00, 1.100e+00, 1.110e+00, 1.120e+00, 1.130e+00,\n",
       "       1.140e+00, 1.150e+00, 1.160e+00, 1.170e+00, 1.180e+00, 1.190e+00,\n",
       "       1.200e+00, 1.210e+00, 1.220e+00, 1.230e+00, 1.240e+00, 1.250e+00,\n",
       "       1.260e+00, 1.270e+00, 1.280e+00, 1.290e+00, 1.300e+00, 1.310e+00,\n",
       "       1.320e+00, 1.330e+00, 1.340e+00, 1.350e+00, 1.360e+00, 1.370e+00,\n",
       "       1.380e+00, 1.390e+00, 1.400e+00, 1.410e+00, 1.420e+00, 1.430e+00,\n",
       "       1.440e+00, 1.450e+00, 1.460e+00, 1.470e+00, 1.480e+00, 1.490e+00,\n",
       "       1.500e+00, 1.510e+00, 1.520e+00, 1.530e+00, 1.550e+00, 1.560e+00,\n",
       "       1.570e+00, 1.580e+00, 1.590e+00, 1.600e+00, 1.620e+00, 1.630e+00,\n",
       "       1.640e+00, 1.650e+00, 1.670e+00, 1.680e+00, 1.690e+00, 1.700e+00,\n",
       "       1.710e+00, 1.720e+00, 1.730e+00, 1.750e+00, 1.760e+00, 1.770e+00,\n",
       "       1.790e+00, 1.800e+00, 1.820e+00, 1.830e+00, 1.840e+00, 1.850e+00,\n",
       "       1.870e+00, 1.880e+00, 1.890e+00, 1.900e+00, 1.910e+00, 1.920e+00,\n",
       "       1.930e+00, 1.940e+00, 1.950e+00, 1.960e+00, 1.970e+00, 1.980e+00,\n",
       "       1.990e+00, 2.000e+00, 2.010e+00, 2.020e+00, 2.040e+00, 2.050e+00,\n",
       "       2.070e+00, 2.100e+00, 2.110e+00, 2.120e+00, 2.130e+00, 2.140e+00,\n",
       "       2.150e+00, 2.160e+00, 2.170e+00, 2.180e+00, 2.190e+00, 2.200e+00,\n",
       "       2.220e+00, 2.230e+00, 2.240e+00, 2.260e+00, 2.270e+00, 2.280e+00,\n",
       "       2.290e+00, 2.300e+00, 2.350e+00, 2.360e+00, 2.370e+00, 2.390e+00,\n",
       "       2.430e+00, 2.450e+00, 2.460e+00, 2.470e+00, 2.480e+00, 2.500e+00,\n",
       "       2.520e+00, 2.530e+00, 2.550e+00, 2.560e+00, 2.590e+00, 2.600e+00,\n",
       "       2.650e+00, 2.710e+00, 2.750e+00, 2.780e+00, 2.790e+00, 2.800e+00,\n",
       "       2.810e+00, 2.830e+00, 2.850e+00, 2.890e+00, 2.990e+00, 3.000e+00,\n",
       "       3.020e+00, 3.070e+00, 3.110e+00, 3.140e+00, 3.170e+00, 3.270e+00,\n",
       "       3.280e+00, 3.350e+00, 3.420e+00, 3.440e+00, 3.450e+00, 3.470e+00,\n",
       "       3.480e+00, 3.490e+00, 3.580e+00, 3.590e+00, 3.630e+00, 3.640e+00,\n",
       "       3.680e+00, 3.690e+00, 3.750e+00, 3.860e+00, 3.870e+00, 3.900e+00,\n",
       "       4.020e+00, 4.190e+00, 4.240e+00, 4.300e+00, 4.330e+00, 4.370e+00,\n",
       "       4.460e+00, 4.510e+00, 4.820e+00, 4.890e+00, 5.010e+00, 5.040e+00,\n",
       "       5.090e+00, 5.140e+00, 5.350e+00, 5.490e+00, 5.730e+00, 5.750e+00,\n",
       "       5.860e+00, 6.120e+00, 6.180e+00, 6.210e+00, 6.310e+00, 6.420e+00,\n",
       "       6.940e+00, 7.470e+00, 8.030e+00, 8.490e+00, 8.890e+00, 9.090e+00,\n",
       "       9.140e+00, 9.180e+00, 9.200e+00, 1.093e+01, 1.095e+01, 1.276e+01,\n",
       "       2.896e+01,       nan])"
      ]
     },
     "metadata": {},
     "output_type": "display_data"
    }
   ],
   "source": [
    "display(df['eu_sales'].sort_values().unique())"
   ]
  },
  {
   "cell_type": "code",
   "execution_count": 22,
   "id": "93234a02-d222-44db-b2d5-e751e7e1ba63",
   "metadata": {},
   "outputs": [],
   "source": [
    "df[['eu_sales', 'jp_sales', 'user_score']] = df[['eu_sales', 'jp_sales', 'user_score']].apply(pd.to_numeric, errors='coerce')"
   ]
  },
  {
   "cell_type": "markdown",
   "id": "689a2e4e-b025-47b4-853f-5efd73e4b989",
   "metadata": {},
   "source": [
    "Мы произвели проверку полей датасета на соответствие форматов и привели все поля к необходимому, для анализа, формату данных."
   ]
  },
  {
   "cell_type": "markdown",
   "id": "b39893cb",
   "metadata": {
    "id": "b39893cb"
   },
   "source": [
    "### Наличие пропусков в данных\n"
   ]
  },
  {
   "cell_type": "markdown",
   "id": "dee4c4ce",
   "metadata": {
    "id": "cc2d1374"
   },
   "source": [
    "На данном этапе мы имеем   \n",
    "* **8594 пропусков** с оценками критиков (critic_score), \n",
    "* **9121 пропуск** с оценками пользователей (user_score),\n",
    "* **6778 пропусков** с рейтингом.\n",
    "  \n",
    "Данные были собраны из открытых источников. Может быть много причин пропусков. Вероятно они могут зависеть от того насколько популярна игра или от того на какой площадке она продавалась. Пропуски в рейтинге могут быть обусловлены тем, что в разных странах играм может быть присвоен разный рейтинг. Оценки пользователей так же могут зависеть от платформы,  на которой выпускалась игра."
   ]
  },
  {
   "cell_type": "code",
   "execution_count": 23,
   "id": "0f1c91a8",
   "metadata": {
    "id": "0f1c91a8",
    "scrolled": true
   },
   "outputs": [
    {
     "data": {
      "text/plain": [
       "name                  0\n",
       "platform              0\n",
       "year_of_release       0\n",
       "genre                 0\n",
       "na_sales              0\n",
       "eu_sales              6\n",
       "jp_sales              4\n",
       "other_sales           0\n",
       "critic_score       8594\n",
       "user_score         9121\n",
       "rating             6778\n",
       "dtype: int64"
      ]
     },
     "metadata": {},
     "output_type": "display_data"
    }
   ],
   "source": [
    "# Показатель user_score увеличился после преобразования tbd в nan\n",
    "display(df.isna().sum())"
   ]
  },
  {
   "cell_type": "code",
   "execution_count": 24,
   "id": "247a6cf7",
   "metadata": {
    "id": "247a6cf7"
   },
   "outputs": [
    {
     "data": {
      "text/plain": [
       "name               0.00\n",
       "platform           0.00\n",
       "year_of_release    0.00\n",
       "genre              0.00\n",
       "na_sales           0.00\n",
       "eu_sales           0.00\n",
       "jp_sales           0.00\n",
       "other_sales        0.00\n",
       "critic_score       0.52\n",
       "user_score         0.55\n",
       "rating             0.41\n",
       "dtype: float64"
      ]
     },
     "metadata": {},
     "output_type": "display_data"
    }
   ],
   "source": [
    "display(round(df.isna().mean(), 2))"
   ]
  },
  {
   "cell_type": "markdown",
   "id": "f0db4e92",
   "metadata": {
    "id": "154be65d"
   },
   "source": [
    "Данные содержат всего **6 пропусков** в столбце *eu_sales* и **4 пропуска** в столбце *jp_sales*. На общем фоне данных эти показатели *не являются значительными* и практически не окажут влияния на итоговый анализ.\n",
    "У нас нет источников для восполнения данных по оценкам игр, а заменять половину данных средними значениями не имеет смысла, так как это не даст объективных значений при анализе, а значит данные значения можно оставить без изменения."
   ]
  },
  {
   "cell_type": "markdown",
   "id": "a63363fd",
   "metadata": {
    "id": "a63363fd"
   },
   "source": [
    "### Явные и неявные дубликаты в данных\n"
   ]
  },
  {
   "cell_type": "markdown",
   "id": "c550d17c-a03b-4d18-bdc5-7337b818cb93",
   "metadata": {},
   "source": [
    "После приведения полей к необходимым типам и обработки пропусков в данных, нам необходимо проверить данные на дубликаты."
   ]
  },
  {
   "cell_type": "code",
   "execution_count": 25,
   "id": "491c9c39",
   "metadata": {
    "id": "491c9c39",
    "scrolled": true
   },
   "outputs": [
    {
     "data": {
      "text/plain": [
       "array(['2600', '3DO', '3DS', 'DC', 'DS', 'GB', 'GBA', 'GC', 'GEN', 'GG',\n",
       "       'N64', 'NES', 'NG', 'PC', 'PCFX', 'PS', 'PS2', 'PS3', 'PS4', 'PSP',\n",
       "       'PSV', 'SAT', 'SCD', 'SNES', 'TG16', 'WS', 'Wii', 'WiiU', 'X360',\n",
       "       'XB', 'XOne'], dtype=object)"
      ]
     },
     "metadata": {},
     "output_type": "display_data"
    }
   ],
   "source": [
    "# Выводим уникальные значения, для определения на наличие скрытых дубликатов\n",
    "display(df['platform'].sort_values().unique())"
   ]
  },
  {
   "cell_type": "code",
   "execution_count": 26,
   "id": "ceb4c424",
   "metadata": {},
   "outputs": [
    {
     "data": {
      "text/plain": [
       "<IntegerArray>\n",
       "[1980, 1981, 1982, 1983, 1984, 1985, 1986, 1987, 1988, 1989, 1990, 1991, 1992,\n",
       " 1993, 1994, 1995, 1996, 1997, 1998, 1999, 2000, 2001, 2002, 2003, 2004, 2005,\n",
       " 2006, 2007, 2008, 2009, 2010, 2011, 2012, 2013, 2014, 2015, 2016]\n",
       "Length: 37, dtype: Int64"
      ]
     },
     "metadata": {},
     "output_type": "display_data"
    }
   ],
   "source": [
    "display(df['year_of_release'].sort_values().unique())"
   ]
  },
  {
   "cell_type": "code",
   "execution_count": 27,
   "id": "8d5bd4ad",
   "metadata": {},
   "outputs": [
    {
     "data": {
      "text/plain": [
       "array(['ACTION', 'ADVENTURE', 'Action', 'Adventure', 'FIGHTING',\n",
       "       'Fighting', 'MISC', 'Misc', 'PLATFORM', 'PUZZLE', 'Platform',\n",
       "       'Puzzle', 'RACING', 'ROLE-PLAYING', 'Racing', 'Role-Playing',\n",
       "       'SHOOTER', 'SIMULATION', 'SPORTS', 'STRATEGY', 'Shooter',\n",
       "       'Simulation', 'Sports', 'Strategy'], dtype=object)"
      ]
     },
     "metadata": {},
     "output_type": "display_data"
    }
   ],
   "source": [
    "display(df['genre'].sort_values().unique())"
   ]
  },
  {
   "cell_type": "code",
   "execution_count": 28,
   "id": "de26e625",
   "metadata": {},
   "outputs": [
    {
     "data": {
      "text/plain": [
       "array(['AO', 'E', 'E10+', 'EC', 'K-A', 'M', 'RP', 'T', nan], dtype=object)"
      ]
     },
     "metadata": {},
     "output_type": "display_data"
    }
   ],
   "source": [
    "display(df['rating'].sort_values().unique())"
   ]
  },
  {
   "cell_type": "code",
   "execution_count": 29,
   "id": "f1627198",
   "metadata": {
    "id": "f1627198"
   },
   "outputs": [
    {
     "name": "stdout",
     "output_type": "stream",
     "text": [
      "<class 'pandas.core.frame.DataFrame'>\n",
      "Index: 16679 entries, 0 to 16955\n",
      "Data columns (total 11 columns):\n",
      " #   Column           Non-Null Count  Dtype  \n",
      "---  ------           --------------  -----  \n",
      " 0   name             16679 non-null  object \n",
      " 1   platform         16679 non-null  object \n",
      " 2   year_of_release  16679 non-null  Int64  \n",
      " 3   genre            16679 non-null  object \n",
      " 4   na_sales         16679 non-null  float64\n",
      " 5   eu_sales         16673 non-null  float64\n",
      " 6   jp_sales         16675 non-null  float64\n",
      " 7   other_sales      16679 non-null  float64\n",
      " 8   critic_score     8085 non-null   Int64  \n",
      " 9   user_score       7558 non-null   float64\n",
      " 10  rating           9901 non-null   object \n",
      "dtypes: Int64(2), float64(5), object(4)\n",
      "memory usage: 1.6+ MB\n"
     ]
    }
   ],
   "source": [
    "df['name'] = df['name'].str.lower()\n",
    "df['platform'] = df['platform'].str.upper()\n",
    "df['genre'] = df['genre'].str.lower()\n",
    "df.info()"
   ]
  },
  {
   "cell_type": "code",
   "execution_count": 30,
   "id": "a0cac80c",
   "metadata": {
    "id": "a0cac80c"
   },
   "outputs": [
    {
     "data": {
      "text/plain": [
       "236"
      ]
     },
     "metadata": {},
     "output_type": "display_data"
    }
   ],
   "source": [
    "#Подсчет явных дубликатов\n",
    "display(df.duplicated(['name', 'platform', 'year_of_release', 'genre']).sum())"
   ]
  },
  {
   "cell_type": "code",
   "execution_count": 31,
   "id": "dc146bca",
   "metadata": {},
   "outputs": [
    {
     "name": "stdout",
     "output_type": "stream",
     "text": [
      "<class 'pandas.core.frame.DataFrame'>\n",
      "Index: 16444 entries, 0 to 16955\n",
      "Data columns (total 11 columns):\n",
      " #   Column           Non-Null Count  Dtype  \n",
      "---  ------           --------------  -----  \n",
      " 0   name             16444 non-null  object \n",
      " 1   platform         16444 non-null  object \n",
      " 2   year_of_release  16444 non-null  Int64  \n",
      " 3   genre            16444 non-null  object \n",
      " 4   na_sales         16444 non-null  float64\n",
      " 5   eu_sales         16438 non-null  float64\n",
      " 6   jp_sales         16440 non-null  float64\n",
      " 7   other_sales      16444 non-null  float64\n",
      " 8   critic_score     7983 non-null   Int64  \n",
      " 9   user_score       7463 non-null   float64\n",
      " 10  rating           9768 non-null   object \n",
      "dtypes: Int64(2), float64(5), object(4)\n",
      "memory usage: 1.5+ MB\n"
     ]
    }
   ],
   "source": [
    "df = df.drop_duplicates()\n",
    "df.info()"
   ]
  },
  {
   "cell_type": "markdown",
   "id": "71fcb9fc",
   "metadata": {
    "id": "a2c09ca7"
   },
   "source": [
    "По результатам предобработки данных было выявлено и удалено **277 пропусков** в данных, а так же **236 дубликатов**.  \n",
    "Количество дубликатов и пропусков *не имело критической массы*, в связи с чем данные можно было удалить."
   ]
  },
  {
   "cell_type": "markdown",
   "id": "613f0eb0",
   "metadata": {
    "id": "613f0eb0"
   },
   "source": [
    "---\n",
    "\n",
    "## Фильтрация данных\n"
   ]
  },
  {
   "cell_type": "markdown",
   "id": "5827525b-f606-4328-b2d8-31d6ec059df8",
   "metadata": {},
   "source": [
    "Поскольку исследование необходимо произвети за *период с 2000 по 2013 год*, произведем фильтрацию и сформируем актуальный датафрейм. Так же выведем основную информацию нового датафрейма"
   ]
  },
  {
   "cell_type": "code",
   "execution_count": 32,
   "id": "2344916d",
   "metadata": {
    "id": "2344916d"
   },
   "outputs": [],
   "source": [
    "df_actual = df.loc[(df['year_of_release'] >=2000) & (df['year_of_release'] <= 2013)].copy()"
   ]
  },
  {
   "cell_type": "code",
   "execution_count": 33,
   "id": "44d7529f",
   "metadata": {
    "id": "44d7529f"
   },
   "outputs": [
    {
     "data": {
      "text/html": [
       "<div>\n",
       "<style scoped>\n",
       "    .dataframe tbody tr th:only-of-type {\n",
       "        vertical-align: middle;\n",
       "    }\n",
       "\n",
       "    .dataframe tbody tr th {\n",
       "        vertical-align: top;\n",
       "    }\n",
       "\n",
       "    .dataframe thead th {\n",
       "        text-align: right;\n",
       "    }\n",
       "</style>\n",
       "<table border=\"1\" class=\"dataframe\">\n",
       "  <thead>\n",
       "    <tr style=\"text-align: right;\">\n",
       "      <th></th>\n",
       "      <th>name</th>\n",
       "      <th>platform</th>\n",
       "      <th>year_of_release</th>\n",
       "      <th>genre</th>\n",
       "      <th>na_sales</th>\n",
       "      <th>eu_sales</th>\n",
       "      <th>jp_sales</th>\n",
       "      <th>other_sales</th>\n",
       "      <th>critic_score</th>\n",
       "      <th>user_score</th>\n",
       "      <th>rating</th>\n",
       "    </tr>\n",
       "  </thead>\n",
       "  <tbody>\n",
       "    <tr>\n",
       "      <th>0</th>\n",
       "      <td>wii sports</td>\n",
       "      <td>WII</td>\n",
       "      <td>2006</td>\n",
       "      <td>sports</td>\n",
       "      <td>41.36</td>\n",
       "      <td>28.96</td>\n",
       "      <td>3.77</td>\n",
       "      <td>8.45</td>\n",
       "      <td>76</td>\n",
       "      <td>8.0</td>\n",
       "      <td>E</td>\n",
       "    </tr>\n",
       "    <tr>\n",
       "      <th>2</th>\n",
       "      <td>mario kart wii</td>\n",
       "      <td>WII</td>\n",
       "      <td>2008</td>\n",
       "      <td>racing</td>\n",
       "      <td>15.68</td>\n",
       "      <td>12.76</td>\n",
       "      <td>3.79</td>\n",
       "      <td>3.29</td>\n",
       "      <td>82</td>\n",
       "      <td>8.3</td>\n",
       "      <td>E</td>\n",
       "    </tr>\n",
       "    <tr>\n",
       "      <th>3</th>\n",
       "      <td>wii sports resort</td>\n",
       "      <td>WII</td>\n",
       "      <td>2009</td>\n",
       "      <td>sports</td>\n",
       "      <td>15.61</td>\n",
       "      <td>10.93</td>\n",
       "      <td>3.28</td>\n",
       "      <td>2.95</td>\n",
       "      <td>80</td>\n",
       "      <td>8.0</td>\n",
       "      <td>E</td>\n",
       "    </tr>\n",
       "    <tr>\n",
       "      <th>6</th>\n",
       "      <td>new super mario bros.</td>\n",
       "      <td>DS</td>\n",
       "      <td>2006</td>\n",
       "      <td>platform</td>\n",
       "      <td>11.28</td>\n",
       "      <td>9.14</td>\n",
       "      <td>6.50</td>\n",
       "      <td>2.88</td>\n",
       "      <td>89</td>\n",
       "      <td>8.5</td>\n",
       "      <td>E</td>\n",
       "    </tr>\n",
       "    <tr>\n",
       "      <th>7</th>\n",
       "      <td>wii play</td>\n",
       "      <td>WII</td>\n",
       "      <td>2006</td>\n",
       "      <td>misc</td>\n",
       "      <td>13.96</td>\n",
       "      <td>9.18</td>\n",
       "      <td>2.93</td>\n",
       "      <td>2.84</td>\n",
       "      <td>58</td>\n",
       "      <td>6.6</td>\n",
       "      <td>E</td>\n",
       "    </tr>\n",
       "  </tbody>\n",
       "</table>\n",
       "</div>"
      ],
      "text/plain": [
       "                    name platform  year_of_release     genre  na_sales  \\\n",
       "0             wii sports      WII             2006    sports     41.36   \n",
       "2         mario kart wii      WII             2008    racing     15.68   \n",
       "3      wii sports resort      WII             2009    sports     15.61   \n",
       "6  new super mario bros.       DS             2006  platform     11.28   \n",
       "7               wii play      WII             2006      misc     13.96   \n",
       "\n",
       "   eu_sales  jp_sales  other_sales  critic_score  user_score rating  \n",
       "0     28.96      3.77         8.45            76         8.0      E  \n",
       "2     12.76      3.79         3.29            82         8.3      E  \n",
       "3     10.93      3.28         2.95            80         8.0      E  \n",
       "6      9.14      6.50         2.88            89         8.5      E  \n",
       "7      9.18      2.93         2.84            58         6.6      E  "
      ]
     },
     "metadata": {},
     "output_type": "display_data"
    }
   ],
   "source": [
    "display(df_actual.head())"
   ]
  },
  {
   "cell_type": "code",
   "execution_count": 34,
   "id": "906577e8",
   "metadata": {
    "id": "906577e8"
   },
   "outputs": [
    {
     "name": "stdout",
     "output_type": "stream",
     "text": [
      "<class 'pandas.core.frame.DataFrame'>\n",
      "Index: 12781 entries, 0 to 16954\n",
      "Data columns (total 11 columns):\n",
      " #   Column           Non-Null Count  Dtype  \n",
      "---  ------           --------------  -----  \n",
      " 0   name             12781 non-null  object \n",
      " 1   platform         12781 non-null  object \n",
      " 2   year_of_release  12781 non-null  Int64  \n",
      " 3   genre            12781 non-null  object \n",
      " 4   na_sales         12781 non-null  float64\n",
      " 5   eu_sales         12776 non-null  float64\n",
      " 6   jp_sales         12777 non-null  float64\n",
      " 7   other_sales      12781 non-null  float64\n",
      " 8   critic_score     7169 non-null   Int64  \n",
      " 9   user_score       6483 non-null   float64\n",
      " 10  rating           8723 non-null   object \n",
      "dtypes: Int64(2), float64(5), object(4)\n",
      "memory usage: 1.2+ MB\n"
     ]
    }
   ],
   "source": [
    "df_actual.info()"
   ]
  },
  {
   "cell_type": "code",
   "execution_count": 35,
   "id": "7aebf5fd",
   "metadata": {},
   "outputs": [
    {
     "data": {
      "text/plain": [
       "<IntegerArray>\n",
       "[2000, 2001, 2002, 2003, 2004, 2005, 2006, 2007, 2008, 2009, 2010, 2011, 2012,\n",
       " 2013]\n",
       "Length: 14, dtype: Int64"
      ]
     },
     "metadata": {},
     "output_type": "display_data"
    }
   ],
   "source": [
    "display(df_actual['year_of_release'].sort_values().unique())"
   ]
  },
  {
   "cell_type": "markdown",
   "id": "a6f10b01",
   "metadata": {
    "id": "a6f10b01"
   },
   "source": [
    "---\n",
    "\n",
    "## Категоризация данных\n",
    "    "
   ]
  },
  {
   "cell_type": "markdown",
   "id": "b76d152b-df45-4f48-9474-053d105e620d",
   "metadata": {},
   "source": [
    "Для целей анализа, нам необходимо добавить к первичному датасету несколько полей с категоризацией данных"
   ]
  },
  {
   "cell_type": "code",
   "execution_count": 36,
   "id": "3db87229",
   "metadata": {
    "id": "3db87229"
   },
   "outputs": [
    {
     "data": {
      "text/html": [
       "<div>\n",
       "<style scoped>\n",
       "    .dataframe tbody tr th:only-of-type {\n",
       "        vertical-align: middle;\n",
       "    }\n",
       "\n",
       "    .dataframe tbody tr th {\n",
       "        vertical-align: top;\n",
       "    }\n",
       "\n",
       "    .dataframe thead th {\n",
       "        text-align: right;\n",
       "    }\n",
       "</style>\n",
       "<table border=\"1\" class=\"dataframe\">\n",
       "  <thead>\n",
       "    <tr style=\"text-align: right;\">\n",
       "      <th></th>\n",
       "      <th>name</th>\n",
       "      <th>platform</th>\n",
       "      <th>year_of_release</th>\n",
       "      <th>genre</th>\n",
       "      <th>na_sales</th>\n",
       "      <th>eu_sales</th>\n",
       "      <th>jp_sales</th>\n",
       "      <th>other_sales</th>\n",
       "      <th>critic_score</th>\n",
       "      <th>user_score</th>\n",
       "      <th>rating</th>\n",
       "      <th>users_level</th>\n",
       "    </tr>\n",
       "  </thead>\n",
       "  <tbody>\n",
       "    <tr>\n",
       "      <th>0</th>\n",
       "      <td>wii sports</td>\n",
       "      <td>WII</td>\n",
       "      <td>2006</td>\n",
       "      <td>sports</td>\n",
       "      <td>41.36</td>\n",
       "      <td>28.96</td>\n",
       "      <td>3.77</td>\n",
       "      <td>8.45</td>\n",
       "      <td>76</td>\n",
       "      <td>8.0</td>\n",
       "      <td>E</td>\n",
       "      <td>высокая оценка</td>\n",
       "    </tr>\n",
       "    <tr>\n",
       "      <th>2</th>\n",
       "      <td>mario kart wii</td>\n",
       "      <td>WII</td>\n",
       "      <td>2008</td>\n",
       "      <td>racing</td>\n",
       "      <td>15.68</td>\n",
       "      <td>12.76</td>\n",
       "      <td>3.79</td>\n",
       "      <td>3.29</td>\n",
       "      <td>82</td>\n",
       "      <td>8.3</td>\n",
       "      <td>E</td>\n",
       "      <td>высокая оценка</td>\n",
       "    </tr>\n",
       "    <tr>\n",
       "      <th>3</th>\n",
       "      <td>wii sports resort</td>\n",
       "      <td>WII</td>\n",
       "      <td>2009</td>\n",
       "      <td>sports</td>\n",
       "      <td>15.61</td>\n",
       "      <td>10.93</td>\n",
       "      <td>3.28</td>\n",
       "      <td>2.95</td>\n",
       "      <td>80</td>\n",
       "      <td>8.0</td>\n",
       "      <td>E</td>\n",
       "      <td>высокая оценка</td>\n",
       "    </tr>\n",
       "    <tr>\n",
       "      <th>6</th>\n",
       "      <td>new super mario bros.</td>\n",
       "      <td>DS</td>\n",
       "      <td>2006</td>\n",
       "      <td>platform</td>\n",
       "      <td>11.28</td>\n",
       "      <td>9.14</td>\n",
       "      <td>6.50</td>\n",
       "      <td>2.88</td>\n",
       "      <td>89</td>\n",
       "      <td>8.5</td>\n",
       "      <td>E</td>\n",
       "      <td>высокая оценка</td>\n",
       "    </tr>\n",
       "    <tr>\n",
       "      <th>7</th>\n",
       "      <td>wii play</td>\n",
       "      <td>WII</td>\n",
       "      <td>2006</td>\n",
       "      <td>misc</td>\n",
       "      <td>13.96</td>\n",
       "      <td>9.18</td>\n",
       "      <td>2.93</td>\n",
       "      <td>2.84</td>\n",
       "      <td>58</td>\n",
       "      <td>6.6</td>\n",
       "      <td>E</td>\n",
       "      <td>средняя оценка</td>\n",
       "    </tr>\n",
       "    <tr>\n",
       "      <th>8</th>\n",
       "      <td>new super mario bros. wii</td>\n",
       "      <td>WII</td>\n",
       "      <td>2009</td>\n",
       "      <td>platform</td>\n",
       "      <td>14.44</td>\n",
       "      <td>6.94</td>\n",
       "      <td>4.70</td>\n",
       "      <td>2.24</td>\n",
       "      <td>87</td>\n",
       "      <td>8.4</td>\n",
       "      <td>E</td>\n",
       "      <td>высокая оценка</td>\n",
       "    </tr>\n",
       "    <tr>\n",
       "      <th>10</th>\n",
       "      <td>nintendogs</td>\n",
       "      <td>DS</td>\n",
       "      <td>2005</td>\n",
       "      <td>simulation</td>\n",
       "      <td>9.05</td>\n",
       "      <td>10.95</td>\n",
       "      <td>1.93</td>\n",
       "      <td>2.74</td>\n",
       "      <td>&lt;NA&gt;</td>\n",
       "      <td>NaN</td>\n",
       "      <td>NaN</td>\n",
       "      <td>нет оценки от пользователей</td>\n",
       "    </tr>\n",
       "    <tr>\n",
       "      <th>11</th>\n",
       "      <td>mario kart ds</td>\n",
       "      <td>DS</td>\n",
       "      <td>2005</td>\n",
       "      <td>racing</td>\n",
       "      <td>9.71</td>\n",
       "      <td>7.47</td>\n",
       "      <td>4.13</td>\n",
       "      <td>1.90</td>\n",
       "      <td>91</td>\n",
       "      <td>8.6</td>\n",
       "      <td>E</td>\n",
       "      <td>высокая оценка</td>\n",
       "    </tr>\n",
       "    <tr>\n",
       "      <th>13</th>\n",
       "      <td>wii fit</td>\n",
       "      <td>WII</td>\n",
       "      <td>2007</td>\n",
       "      <td>sports</td>\n",
       "      <td>8.92</td>\n",
       "      <td>8.03</td>\n",
       "      <td>3.60</td>\n",
       "      <td>2.15</td>\n",
       "      <td>80</td>\n",
       "      <td>7.7</td>\n",
       "      <td>E</td>\n",
       "      <td>средняя оценка</td>\n",
       "    </tr>\n",
       "    <tr>\n",
       "      <th>14</th>\n",
       "      <td>kinect adventures!</td>\n",
       "      <td>X360</td>\n",
       "      <td>2010</td>\n",
       "      <td>misc</td>\n",
       "      <td>15.00</td>\n",
       "      <td>4.89</td>\n",
       "      <td>0.24</td>\n",
       "      <td>1.69</td>\n",
       "      <td>61</td>\n",
       "      <td>6.3</td>\n",
       "      <td>E</td>\n",
       "      <td>средняя оценка</td>\n",
       "    </tr>\n",
       "  </tbody>\n",
       "</table>\n",
       "</div>"
      ],
      "text/plain": [
       "                         name platform  year_of_release       genre  na_sales  \\\n",
       "0                  wii sports      WII             2006      sports     41.36   \n",
       "2              mario kart wii      WII             2008      racing     15.68   \n",
       "3           wii sports resort      WII             2009      sports     15.61   \n",
       "6       new super mario bros.       DS             2006    platform     11.28   \n",
       "7                    wii play      WII             2006        misc     13.96   \n",
       "8   new super mario bros. wii      WII             2009    platform     14.44   \n",
       "10                 nintendogs       DS             2005  simulation      9.05   \n",
       "11              mario kart ds       DS             2005      racing      9.71   \n",
       "13                    wii fit      WII             2007      sports      8.92   \n",
       "14         kinect adventures!     X360             2010        misc     15.00   \n",
       "\n",
       "    eu_sales  jp_sales  other_sales  critic_score  user_score rating  \\\n",
       "0      28.96      3.77         8.45            76         8.0      E   \n",
       "2      12.76      3.79         3.29            82         8.3      E   \n",
       "3      10.93      3.28         2.95            80         8.0      E   \n",
       "6       9.14      6.50         2.88            89         8.5      E   \n",
       "7       9.18      2.93         2.84            58         6.6      E   \n",
       "8       6.94      4.70         2.24            87         8.4      E   \n",
       "10     10.95      1.93         2.74          <NA>         NaN    NaN   \n",
       "11      7.47      4.13         1.90            91         8.6      E   \n",
       "13      8.03      3.60         2.15            80         7.7      E   \n",
       "14      4.89      0.24         1.69            61         6.3      E   \n",
       "\n",
       "                    users_level  \n",
       "0                высокая оценка  \n",
       "2                высокая оценка  \n",
       "3                высокая оценка  \n",
       "6                высокая оценка  \n",
       "7                средняя оценка  \n",
       "8                высокая оценка  \n",
       "10  нет оценки от пользователей  \n",
       "11               высокая оценка  \n",
       "13               средняя оценка  \n",
       "14               средняя оценка  "
      ]
     },
     "metadata": {},
     "output_type": "display_data"
    }
   ],
   "source": [
    "# Добавляем поле с градацией по оценкам\n",
    "def user_level(x):\n",
    "    if x['user_score'] >= 0 and x['user_score'] < 3:\n",
    "        return 'низкая оценка'\n",
    "    elif x['user_score'] >= 3 and x['user_score'] < 8:\n",
    "        return 'средняя оценка'\n",
    "    elif x['user_score'] >= 8 and x['user_score'] <= 10:\n",
    "        return 'высокая оценка'\n",
    "    else:\n",
    "        return 'нет оценки от пользователей'\n",
    "    \n",
    "df_actual['users_level'] = df_actual.apply(user_level, axis=1)\n",
    "display(df_actual.head(10))"
   ]
  },
  {
   "cell_type": "code",
   "execution_count": 37,
   "id": "e3f7acb0",
   "metadata": {
    "id": "e3f7acb0"
   },
   "outputs": [
    {
     "data": {
      "text/html": [
       "<div>\n",
       "<style scoped>\n",
       "    .dataframe tbody tr th:only-of-type {\n",
       "        vertical-align: middle;\n",
       "    }\n",
       "\n",
       "    .dataframe tbody tr th {\n",
       "        vertical-align: top;\n",
       "    }\n",
       "\n",
       "    .dataframe thead th {\n",
       "        text-align: right;\n",
       "    }\n",
       "</style>\n",
       "<table border=\"1\" class=\"dataframe\">\n",
       "  <thead>\n",
       "    <tr style=\"text-align: right;\">\n",
       "      <th></th>\n",
       "      <th>name</th>\n",
       "      <th>platform</th>\n",
       "      <th>year_of_release</th>\n",
       "      <th>genre</th>\n",
       "      <th>na_sales</th>\n",
       "      <th>eu_sales</th>\n",
       "      <th>jp_sales</th>\n",
       "      <th>other_sales</th>\n",
       "      <th>critic_score</th>\n",
       "      <th>user_score</th>\n",
       "      <th>rating</th>\n",
       "      <th>users_level</th>\n",
       "      <th>critic_level</th>\n",
       "    </tr>\n",
       "  </thead>\n",
       "  <tbody>\n",
       "    <tr>\n",
       "      <th>0</th>\n",
       "      <td>wii sports</td>\n",
       "      <td>WII</td>\n",
       "      <td>2006</td>\n",
       "      <td>sports</td>\n",
       "      <td>41.36</td>\n",
       "      <td>28.96</td>\n",
       "      <td>3.77</td>\n",
       "      <td>8.45</td>\n",
       "      <td>76</td>\n",
       "      <td>8.0</td>\n",
       "      <td>E</td>\n",
       "      <td>высокая оценка</td>\n",
       "      <td>средняя оценка</td>\n",
       "    </tr>\n",
       "    <tr>\n",
       "      <th>2</th>\n",
       "      <td>mario kart wii</td>\n",
       "      <td>WII</td>\n",
       "      <td>2008</td>\n",
       "      <td>racing</td>\n",
       "      <td>15.68</td>\n",
       "      <td>12.76</td>\n",
       "      <td>3.79</td>\n",
       "      <td>3.29</td>\n",
       "      <td>82</td>\n",
       "      <td>8.3</td>\n",
       "      <td>E</td>\n",
       "      <td>высокая оценка</td>\n",
       "      <td>высокая оценка</td>\n",
       "    </tr>\n",
       "    <tr>\n",
       "      <th>3</th>\n",
       "      <td>wii sports resort</td>\n",
       "      <td>WII</td>\n",
       "      <td>2009</td>\n",
       "      <td>sports</td>\n",
       "      <td>15.61</td>\n",
       "      <td>10.93</td>\n",
       "      <td>3.28</td>\n",
       "      <td>2.95</td>\n",
       "      <td>80</td>\n",
       "      <td>8.0</td>\n",
       "      <td>E</td>\n",
       "      <td>высокая оценка</td>\n",
       "      <td>высокая оценка</td>\n",
       "    </tr>\n",
       "    <tr>\n",
       "      <th>6</th>\n",
       "      <td>new super mario bros.</td>\n",
       "      <td>DS</td>\n",
       "      <td>2006</td>\n",
       "      <td>platform</td>\n",
       "      <td>11.28</td>\n",
       "      <td>9.14</td>\n",
       "      <td>6.50</td>\n",
       "      <td>2.88</td>\n",
       "      <td>89</td>\n",
       "      <td>8.5</td>\n",
       "      <td>E</td>\n",
       "      <td>высокая оценка</td>\n",
       "      <td>высокая оценка</td>\n",
       "    </tr>\n",
       "    <tr>\n",
       "      <th>7</th>\n",
       "      <td>wii play</td>\n",
       "      <td>WII</td>\n",
       "      <td>2006</td>\n",
       "      <td>misc</td>\n",
       "      <td>13.96</td>\n",
       "      <td>9.18</td>\n",
       "      <td>2.93</td>\n",
       "      <td>2.84</td>\n",
       "      <td>58</td>\n",
       "      <td>6.6</td>\n",
       "      <td>E</td>\n",
       "      <td>средняя оценка</td>\n",
       "      <td>средняя оценка</td>\n",
       "    </tr>\n",
       "    <tr>\n",
       "      <th>8</th>\n",
       "      <td>new super mario bros. wii</td>\n",
       "      <td>WII</td>\n",
       "      <td>2009</td>\n",
       "      <td>platform</td>\n",
       "      <td>14.44</td>\n",
       "      <td>6.94</td>\n",
       "      <td>4.70</td>\n",
       "      <td>2.24</td>\n",
       "      <td>87</td>\n",
       "      <td>8.4</td>\n",
       "      <td>E</td>\n",
       "      <td>высокая оценка</td>\n",
       "      <td>высокая оценка</td>\n",
       "    </tr>\n",
       "    <tr>\n",
       "      <th>10</th>\n",
       "      <td>nintendogs</td>\n",
       "      <td>DS</td>\n",
       "      <td>2005</td>\n",
       "      <td>simulation</td>\n",
       "      <td>9.05</td>\n",
       "      <td>10.95</td>\n",
       "      <td>1.93</td>\n",
       "      <td>2.74</td>\n",
       "      <td>&lt;NA&gt;</td>\n",
       "      <td>NaN</td>\n",
       "      <td>NaN</td>\n",
       "      <td>нет оценки от пользователей</td>\n",
       "      <td>нет оценки от пользователей</td>\n",
       "    </tr>\n",
       "    <tr>\n",
       "      <th>11</th>\n",
       "      <td>mario kart ds</td>\n",
       "      <td>DS</td>\n",
       "      <td>2005</td>\n",
       "      <td>racing</td>\n",
       "      <td>9.71</td>\n",
       "      <td>7.47</td>\n",
       "      <td>4.13</td>\n",
       "      <td>1.90</td>\n",
       "      <td>91</td>\n",
       "      <td>8.6</td>\n",
       "      <td>E</td>\n",
       "      <td>высокая оценка</td>\n",
       "      <td>высокая оценка</td>\n",
       "    </tr>\n",
       "    <tr>\n",
       "      <th>13</th>\n",
       "      <td>wii fit</td>\n",
       "      <td>WII</td>\n",
       "      <td>2007</td>\n",
       "      <td>sports</td>\n",
       "      <td>8.92</td>\n",
       "      <td>8.03</td>\n",
       "      <td>3.60</td>\n",
       "      <td>2.15</td>\n",
       "      <td>80</td>\n",
       "      <td>7.7</td>\n",
       "      <td>E</td>\n",
       "      <td>средняя оценка</td>\n",
       "      <td>высокая оценка</td>\n",
       "    </tr>\n",
       "    <tr>\n",
       "      <th>14</th>\n",
       "      <td>kinect adventures!</td>\n",
       "      <td>X360</td>\n",
       "      <td>2010</td>\n",
       "      <td>misc</td>\n",
       "      <td>15.00</td>\n",
       "      <td>4.89</td>\n",
       "      <td>0.24</td>\n",
       "      <td>1.69</td>\n",
       "      <td>61</td>\n",
       "      <td>6.3</td>\n",
       "      <td>E</td>\n",
       "      <td>средняя оценка</td>\n",
       "      <td>средняя оценка</td>\n",
       "    </tr>\n",
       "  </tbody>\n",
       "</table>\n",
       "</div>"
      ],
      "text/plain": [
       "                         name platform  year_of_release       genre  na_sales  \\\n",
       "0                  wii sports      WII             2006      sports     41.36   \n",
       "2              mario kart wii      WII             2008      racing     15.68   \n",
       "3           wii sports resort      WII             2009      sports     15.61   \n",
       "6       new super mario bros.       DS             2006    platform     11.28   \n",
       "7                    wii play      WII             2006        misc     13.96   \n",
       "8   new super mario bros. wii      WII             2009    platform     14.44   \n",
       "10                 nintendogs       DS             2005  simulation      9.05   \n",
       "11              mario kart ds       DS             2005      racing      9.71   \n",
       "13                    wii fit      WII             2007      sports      8.92   \n",
       "14         kinect adventures!     X360             2010        misc     15.00   \n",
       "\n",
       "    eu_sales  jp_sales  other_sales  critic_score  user_score rating  \\\n",
       "0      28.96      3.77         8.45            76         8.0      E   \n",
       "2      12.76      3.79         3.29            82         8.3      E   \n",
       "3      10.93      3.28         2.95            80         8.0      E   \n",
       "6       9.14      6.50         2.88            89         8.5      E   \n",
       "7       9.18      2.93         2.84            58         6.6      E   \n",
       "8       6.94      4.70         2.24            87         8.4      E   \n",
       "10     10.95      1.93         2.74          <NA>         NaN    NaN   \n",
       "11      7.47      4.13         1.90            91         8.6      E   \n",
       "13      8.03      3.60         2.15            80         7.7      E   \n",
       "14      4.89      0.24         1.69            61         6.3      E   \n",
       "\n",
       "                    users_level                 critic_level  \n",
       "0                высокая оценка               средняя оценка  \n",
       "2                высокая оценка               высокая оценка  \n",
       "3                высокая оценка               высокая оценка  \n",
       "6                высокая оценка               высокая оценка  \n",
       "7                средняя оценка               средняя оценка  \n",
       "8                высокая оценка               высокая оценка  \n",
       "10  нет оценки от пользователей  нет оценки от пользователей  \n",
       "11               высокая оценка               высокая оценка  \n",
       "13               средняя оценка               высокая оценка  \n",
       "14               средняя оценка               средняя оценка  "
      ]
     },
     "metadata": {},
     "output_type": "display_data"
    }
   ],
   "source": [
    "def critic_level_maker(x):\n",
    "    if pd.isna(x['critic_score']):\n",
    "        return 'нет оценки от пользователей'\n",
    "    if x['critic_score'] >= 0 and x['critic_score'] < 30:\n",
    "        return 'низкая оценка'\n",
    "    elif x['critic_score'] >= 30 and x['critic_score'] < 80:\n",
    "        return 'средняя оценка'\n",
    "    elif x['critic_score'] >= 80 and x['critic_score'] <= 100:\n",
    "        return 'высокая оценка'\n",
    "    else:\n",
    "        return 'нет оценки от пользователей'\n",
    "    \n",
    "df_actual.loc[:, 'critic_level'] = df_actual.apply(critic_level_maker, axis=1)\n",
    "display(df_actual.head(10))"
   ]
  },
  {
   "cell_type": "code",
   "execution_count": 38,
   "id": "HW0Nsp-4UMSL",
   "metadata": {
    "id": "HW0Nsp-4UMSL"
   },
   "outputs": [
    {
     "data": {
      "text/plain": [
       "users_level\n",
       "нет оценки от пользователей    6298\n",
       "средняя оценка                 4081\n",
       "высокая оценка                 2286\n",
       "низкая оценка                   116\n",
       "Name: name, dtype: int64"
      ]
     },
     "metadata": {},
     "output_type": "display_data"
    }
   ],
   "source": [
    "users_level_count = df_actual.groupby('users_level')['name'].count()\n",
    "display(users_level_count.sort_values(ascending=False))"
   ]
  },
  {
   "cell_type": "code",
   "execution_count": 39,
   "id": "x2ne0HIpUMMD",
   "metadata": {
    "id": "x2ne0HIpUMMD"
   },
   "outputs": [
    {
     "data": {
      "text/plain": [
       "critic_level\n",
       "нет оценки от пользователей    5612\n",
       "средняя оценка                 5422\n",
       "высокая оценка                 1692\n",
       "низкая оценка                    55\n",
       "Name: name, dtype: int64"
      ]
     },
     "metadata": {},
     "output_type": "display_data"
    }
   ],
   "source": [
    "critic_level_count = df_actual.groupby('critic_level')['name'].count()\n",
    "display(critic_level_count.sort_values(ascending=False))"
   ]
  },
  {
   "cell_type": "code",
   "execution_count": 40,
   "id": "003caa2c",
   "metadata": {
    "id": "003caa2c"
   },
   "outputs": [
    {
     "data": {
      "text/plain": [
       "platform\n",
       "PS2     2127\n",
       "DS      2120\n",
       "WII     1275\n",
       "PSP     1180\n",
       "X360    1121\n",
       "PS3     1087\n",
       "GBA      811\n",
       "Name: name, dtype: int64"
      ]
     },
     "metadata": {},
     "output_type": "display_data"
    }
   ],
   "source": [
    "top_platforms = df_actual.groupby('platform')['name'].count()\n",
    "display(top_platforms.sort_values(ascending=False).head(7))"
   ]
  },
  {
   "cell_type": "markdown",
   "id": "c0158881",
   "metadata": {
    "id": "c0158881"
   },
   "source": [
    "---\n",
    "\n",
    "## Итоговый вывод\n"
   ]
  },
  {
   "cell_type": "markdown",
   "id": "da81e89e",
   "metadata": {
    "id": "20175f5b"
   },
   "source": [
    "Начальный датасет содержал:   \n",
    "* **16956 строк**\n",
    "* **277 пропусков** в данных важных, для анализа, данных\n",
    "* **235 дубликатов**\n",
    "  \n",
    "Пропуски и дубликаты были удалены из датасета. Так в начальных данных имелись строки с крайне большим количеством пропусков в данных. Данные столбцы не участвовали в итоговой работе с датасетом. Восстановление данных пропусков не было возможным, так как нет источников, откуда брались данных, при необходимости можно сделать запрос заказчику на восстановление данных значений. Замета данных так же не являлась возможной, так как замена на средние значения половины данных, дала бы некорректные значения для половины данных в серии.\n",
    "Были приобразованы типы данных следующих столбцов\n",
    "1) *year_of_release*,  \n",
    "2) *eu_sales*,\n",
    "3) *jp_sales*,\n",
    "4) *critic_score*,\n",
    "5) *user_score*.\n",
    "\n",
    "Так же были добавлены два новых столбца с категоризацией данных на основе оценок пользователей и критиков.\n",
    "\n",
    "На основе созданных столбцов была проведена группировка данных, а так же выявлено количество какой категории преобладает в данных.  \n",
    "По оценкам пользователей и критиков в датасете преобладают игры со средним рейтингом. Однако большая часть данных не содержит оценок вовсе. \n",
    "По количеству выпущенных игр, за анализируемый период, лидируют следующие платформы:  \n",
    "|Платформа| количество|\n",
    "|:-:|:-|\n",
    "|PS2|     2 127 игр|\n",
    "|DS|      2 120 игр|\n",
    "|WII|     1 275 игр|"
   ]
  },
  {
   "cell_type": "code",
   "execution_count": null,
   "id": "e5e770b8",
   "metadata": {},
   "outputs": [],
   "source": []
  }
 ],
 "metadata": {
  "ExecuteTimeLog": [
   {
    "duration": 481,
    "start_time": "2024-12-11T10:47:38.944Z"
   },
   {
    "duration": 215,
    "start_time": "2024-12-11T10:47:56.891Z"
   },
   {
    "duration": 61,
    "start_time": "2024-12-11T10:48:12.504Z"
   },
   {
    "duration": 58,
    "start_time": "2024-12-11T10:51:14.466Z"
   },
   {
    "duration": 61,
    "start_time": "2024-12-11T10:51:44.792Z"
   },
   {
    "duration": 59,
    "start_time": "2024-12-11T10:52:06.987Z"
   },
   {
    "duration": 59,
    "start_time": "2024-12-11T10:53:22.443Z"
   },
   {
    "duration": 61,
    "start_time": "2024-12-11T10:53:33.533Z"
   },
   {
    "duration": 60,
    "start_time": "2024-12-11T10:54:12.432Z"
   },
   {
    "duration": 56,
    "start_time": "2024-12-11T10:54:21.777Z"
   },
   {
    "duration": 59,
    "start_time": "2024-12-11T10:54:37.754Z"
   },
   {
    "duration": 115,
    "start_time": "2024-12-11T10:54:55.067Z"
   },
   {
    "duration": 57,
    "start_time": "2024-12-11T10:55:01.343Z"
   },
   {
    "duration": 56,
    "start_time": "2024-12-11T10:55:21.036Z"
   },
   {
    "duration": 56,
    "start_time": "2024-12-11T11:07:04.910Z"
   },
   {
    "duration": 62,
    "start_time": "2024-12-11T11:07:34.065Z"
   },
   {
    "duration": 55,
    "start_time": "2024-12-11T11:07:42.520Z"
   },
   {
    "duration": 57,
    "start_time": "2024-12-11T11:07:52.529Z"
   },
   {
    "duration": 58,
    "start_time": "2024-12-11T11:08:26.451Z"
   },
   {
    "duration": 57,
    "start_time": "2024-12-11T11:08:36.428Z"
   },
   {
    "duration": 56,
    "start_time": "2024-12-11T11:08:56.549Z"
   },
   {
    "duration": 3,
    "start_time": "2024-12-11T14:27:57.024Z"
   },
   {
    "duration": 467,
    "start_time": "2024-12-11T14:27:57.032Z"
   },
   {
    "duration": 3,
    "start_time": "2024-12-11T14:27:57.501Z"
   },
   {
    "duration": 123,
    "start_time": "2024-12-11T14:30:32.186Z"
   },
   {
    "duration": 61,
    "start_time": "2024-12-11T14:30:37.322Z"
   },
   {
    "duration": 60,
    "start_time": "2024-12-11T14:30:46.183Z"
   },
   {
    "duration": 64,
    "start_time": "2024-12-11T14:31:08.917Z"
   },
   {
    "duration": 61,
    "start_time": "2024-12-11T14:32:02.828Z"
   },
   {
    "duration": 61,
    "start_time": "2024-12-11T14:33:18.724Z"
   },
   {
    "duration": 58,
    "start_time": "2024-12-11T14:33:21.069Z"
   },
   {
    "duration": 4,
    "start_time": "2024-12-11T14:33:56.154Z"
   },
   {
    "duration": 61,
    "start_time": "2024-12-11T14:34:00.998Z"
   },
   {
    "duration": 24,
    "start_time": "2024-12-11T14:36:36.193Z"
   },
   {
    "duration": 73,
    "start_time": "2024-12-11T14:41:27.284Z"
   },
   {
    "duration": 5,
    "start_time": "2024-12-11T14:41:45.188Z"
   },
   {
    "duration": 6,
    "start_time": "2024-12-11T14:51:38.056Z"
   },
   {
    "duration": 4,
    "start_time": "2024-12-11T14:51:52.522Z"
   },
   {
    "duration": 4,
    "start_time": "2024-12-11T14:52:26.903Z"
   },
   {
    "duration": 4,
    "start_time": "2024-12-11T14:52:31.974Z"
   },
   {
    "duration": 8,
    "start_time": "2024-12-11T14:54:39.179Z"
   },
   {
    "duration": 8,
    "start_time": "2024-12-11T14:55:08.944Z"
   },
   {
    "duration": 9,
    "start_time": "2024-12-11T14:56:34.229Z"
   },
   {
    "duration": 10,
    "start_time": "2024-12-11T14:56:51.008Z"
   },
   {
    "duration": 12,
    "start_time": "2024-12-11T14:57:11.945Z"
   },
   {
    "duration": 8,
    "start_time": "2024-12-11T14:57:28.197Z"
   },
   {
    "duration": 4,
    "start_time": "2024-12-11T18:39:40.477Z"
   },
   {
    "duration": 2,
    "start_time": "2024-12-11T18:40:53.549Z"
   },
   {
    "duration": 3,
    "start_time": "2024-12-11T18:40:58.483Z"
   },
   {
    "duration": 5,
    "start_time": "2024-12-11T18:41:15.154Z"
   },
   {
    "duration": 4,
    "start_time": "2024-12-11T18:41:30.189Z"
   },
   {
    "duration": 5,
    "start_time": "2024-12-11T18:41:47.443Z"
   },
   {
    "duration": 5,
    "start_time": "2024-12-11T18:42:13.267Z"
   },
   {
    "duration": 9,
    "start_time": "2024-12-11T18:42:49.602Z"
   },
   {
    "duration": 7,
    "start_time": "2024-12-11T18:42:56.278Z"
   },
   {
    "duration": 10,
    "start_time": "2024-12-11T18:44:45.673Z"
   },
   {
    "duration": 7,
    "start_time": "2024-12-11T18:44:52.017Z"
   },
   {
    "duration": 6,
    "start_time": "2024-12-11T18:53:44.928Z"
   },
   {
    "duration": 7,
    "start_time": "2024-12-11T18:53:48.904Z"
   },
   {
    "duration": 8,
    "start_time": "2024-12-11T18:53:51.544Z"
   },
   {
    "duration": 7,
    "start_time": "2024-12-11T18:55:44.056Z"
   },
   {
    "duration": 12,
    "start_time": "2024-12-11T18:57:11.104Z"
   },
   {
    "duration": 12,
    "start_time": "2024-12-11T18:58:23.247Z"
   },
   {
    "duration": 10,
    "start_time": "2024-12-11T18:58:58.800Z"
   },
   {
    "duration": 12,
    "start_time": "2024-12-11T18:59:30.801Z"
   },
   {
    "duration": 66,
    "start_time": "2024-12-11T18:59:52.179Z"
   },
   {
    "duration": 3,
    "start_time": "2024-12-11T19:00:14.962Z"
   },
   {
    "duration": 537,
    "start_time": "2024-12-11T19:00:14.967Z"
   },
   {
    "duration": 10,
    "start_time": "2024-12-11T19:00:15.506Z"
   },
   {
    "duration": 62,
    "start_time": "2024-12-11T19:00:15.518Z"
   },
   {
    "duration": 46,
    "start_time": "2024-12-11T19:00:15.582Z"
   },
   {
    "duration": 14,
    "start_time": "2024-12-11T19:00:31.844Z"
   },
   {
    "duration": 17,
    "start_time": "2024-12-11T19:00:56.784Z"
   },
   {
    "duration": 14,
    "start_time": "2024-12-11T19:01:04.155Z"
   },
   {
    "duration": 18,
    "start_time": "2024-12-11T19:01:07.605Z"
   },
   {
    "duration": 3,
    "start_time": "2024-12-11T19:01:12.445Z"
   },
   {
    "duration": 531,
    "start_time": "2024-12-11T19:01:12.450Z"
   },
   {
    "duration": 9,
    "start_time": "2024-12-11T19:01:12.983Z"
   },
   {
    "duration": 45,
    "start_time": "2024-12-11T19:01:12.993Z"
   },
   {
    "duration": 53,
    "start_time": "2024-12-11T19:01:13.040Z"
   },
   {
    "duration": 21,
    "start_time": "2024-12-11T19:04:49.450Z"
   },
   {
    "duration": 3,
    "start_time": "2024-12-11T19:05:41.147Z"
   },
   {
    "duration": 15,
    "start_time": "2024-12-11T19:05:49.827Z"
   },
   {
    "duration": 1477,
    "start_time": "2024-12-11T19:07:01.420Z"
   },
   {
    "duration": 1684,
    "start_time": "2024-12-11T19:07:16.389Z"
   },
   {
    "duration": 7,
    "start_time": "2024-12-11T19:08:45.929Z"
   },
   {
    "duration": 7,
    "start_time": "2024-12-11T19:10:17.639Z"
   },
   {
    "duration": 4,
    "start_time": "2024-12-11T19:10:47.927Z"
   },
   {
    "duration": 8,
    "start_time": "2024-12-11T19:11:10.999Z"
   },
   {
    "duration": 8,
    "start_time": "2024-12-11T19:12:18.180Z"
   },
   {
    "duration": 4,
    "start_time": "2024-12-11T19:13:52.753Z"
   },
   {
    "duration": 5,
    "start_time": "2024-12-11T19:13:57.749Z"
   },
   {
    "duration": 23,
    "start_time": "2024-12-11T19:14:54.113Z"
   },
   {
    "duration": 11,
    "start_time": "2024-12-11T19:15:43.510Z"
   },
   {
    "duration": 11,
    "start_time": "2024-12-11T19:20:15.644Z"
   },
   {
    "duration": 12,
    "start_time": "2024-12-11T19:20:30.197Z"
   },
   {
    "duration": 13,
    "start_time": "2024-12-11T19:22:18.358Z"
   },
   {
    "duration": 10,
    "start_time": "2024-12-11T19:22:44.238Z"
   },
   {
    "duration": 7,
    "start_time": "2024-12-11T19:23:08.543Z"
   },
   {
    "duration": 14,
    "start_time": "2024-12-11T19:24:12.839Z"
   },
   {
    "duration": 13,
    "start_time": "2024-12-11T19:24:17.742Z"
   },
   {
    "duration": 3,
    "start_time": "2024-12-11T19:24:29.793Z"
   },
   {
    "duration": 486,
    "start_time": "2024-12-11T19:24:29.798Z"
   },
   {
    "duration": 10,
    "start_time": "2024-12-11T19:24:30.285Z"
   },
   {
    "duration": 41,
    "start_time": "2024-12-11T19:24:30.297Z"
   },
   {
    "duration": 38,
    "start_time": "2024-12-11T19:24:30.340Z"
   },
   {
    "duration": 14,
    "start_time": "2024-12-11T19:24:42.032Z"
   },
   {
    "duration": 22,
    "start_time": "2024-12-11T19:25:16.607Z"
   },
   {
    "duration": 25,
    "start_time": "2024-12-11T19:25:20.885Z"
   },
   {
    "duration": 32,
    "start_time": "2024-12-11T19:26:53.199Z"
   },
   {
    "duration": 62,
    "start_time": "2024-12-11T19:36:29.759Z"
   },
   {
    "duration": 4,
    "start_time": "2024-12-11T19:36:37.599Z"
   },
   {
    "duration": 23,
    "start_time": "2024-12-11T19:39:40.245Z"
   },
   {
    "duration": 14,
    "start_time": "2024-12-11T19:40:01.213Z"
   },
   {
    "duration": 19,
    "start_time": "2024-12-11T19:40:10.917Z"
   },
   {
    "duration": 5,
    "start_time": "2024-12-11T19:40:38.960Z"
   },
   {
    "duration": 22,
    "start_time": "2024-12-11T19:42:06.053Z"
   },
   {
    "duration": 62,
    "start_time": "2024-12-12T10:35:25.594Z"
   },
   {
    "duration": 3,
    "start_time": "2024-12-12T10:35:38.875Z"
   },
   {
    "duration": 535,
    "start_time": "2024-12-12T10:35:38.879Z"
   },
   {
    "duration": 10,
    "start_time": "2024-12-12T10:35:39.416Z"
   },
   {
    "duration": 25,
    "start_time": "2024-12-12T10:35:39.429Z"
   },
   {
    "duration": 1281,
    "start_time": "2024-12-12T10:35:39.457Z"
   },
   {
    "duration": 0,
    "start_time": "2024-12-12T10:35:40.739Z"
   },
   {
    "duration": 32,
    "start_time": "2024-12-12T10:35:51.581Z"
   },
   {
    "duration": 4,
    "start_time": "2024-12-12T10:36:52.333Z"
   },
   {
    "duration": 3,
    "start_time": "2024-12-12T10:37:00.837Z"
   },
   {
    "duration": 518,
    "start_time": "2024-12-12T10:37:00.842Z"
   },
   {
    "duration": 9,
    "start_time": "2024-12-12T10:37:01.362Z"
   },
   {
    "duration": 64,
    "start_time": "2024-12-12T10:37:01.372Z"
   },
   {
    "duration": 1317,
    "start_time": "2024-12-12T10:37:01.438Z"
   },
   {
    "duration": 0,
    "start_time": "2024-12-12T10:37:02.757Z"
   },
   {
    "duration": 0,
    "start_time": "2024-12-12T10:37:02.759Z"
   },
   {
    "duration": 4,
    "start_time": "2024-12-12T10:37:19.834Z"
   },
   {
    "duration": 38,
    "start_time": "2024-12-12T10:37:23.051Z"
   },
   {
    "duration": 24,
    "start_time": "2024-12-12T10:37:40.642Z"
   },
   {
    "duration": 19,
    "start_time": "2024-12-12T10:38:05.783Z"
   },
   {
    "duration": 14,
    "start_time": "2024-12-12T10:39:25.464Z"
   },
   {
    "duration": 10,
    "start_time": "2024-12-12T13:36:04.311Z"
   },
   {
    "duration": 19,
    "start_time": "2024-12-12T13:38:48.322Z"
   },
   {
    "duration": 13,
    "start_time": "2024-12-12T13:40:20.461Z"
   },
   {
    "duration": 10,
    "start_time": "2024-12-12T13:41:07.827Z"
   },
   {
    "duration": 10,
    "start_time": "2024-12-12T13:41:43.740Z"
   },
   {
    "duration": 459,
    "start_time": "2024-12-12T13:43:08.707Z"
   },
   {
    "duration": 8,
    "start_time": "2024-12-12T13:43:09.168Z"
   },
   {
    "duration": 14,
    "start_time": "2024-12-12T13:43:09.177Z"
   },
   {
    "duration": 12,
    "start_time": "2024-12-12T13:43:09.193Z"
   },
   {
    "duration": 11,
    "start_time": "2024-12-12T13:43:09.206Z"
   },
   {
    "duration": 805,
    "start_time": "2024-12-12T13:43:09.218Z"
   },
   {
    "duration": 0,
    "start_time": "2024-12-12T13:43:10.024Z"
   },
   {
    "duration": 0,
    "start_time": "2024-12-12T13:43:10.026Z"
   },
   {
    "duration": 0,
    "start_time": "2024-12-12T13:43:10.027Z"
   },
   {
    "duration": 11,
    "start_time": "2024-12-12T13:43:16.629Z"
   },
   {
    "duration": 2,
    "start_time": "2024-12-12T13:43:30.806Z"
   },
   {
    "duration": 4,
    "start_time": "2024-12-12T13:51:21.513Z"
   },
   {
    "duration": 23,
    "start_time": "2024-12-12T13:51:24.145Z"
   },
   {
    "duration": 5,
    "start_time": "2024-12-12T13:56:52.893Z"
   },
   {
    "duration": 21,
    "start_time": "2024-12-12T13:57:05.420Z"
   },
   {
    "duration": 5,
    "start_time": "2024-12-12T13:58:09.587Z"
   },
   {
    "duration": 12,
    "start_time": "2024-12-12T14:11:49.739Z"
   },
   {
    "duration": 12,
    "start_time": "2024-12-12T14:18:43.832Z"
   },
   {
    "duration": 5,
    "start_time": "2024-12-12T14:19:45.177Z"
   },
   {
    "duration": 5,
    "start_time": "2024-12-12T14:28:17.967Z"
   },
   {
    "duration": 9,
    "start_time": "2024-12-12T14:28:53.891Z"
   },
   {
    "duration": 21,
    "start_time": "2024-12-12T14:28:59.998Z"
   },
   {
    "duration": 17,
    "start_time": "2024-12-12T14:31:02.030Z"
   },
   {
    "duration": 20,
    "start_time": "2024-12-12T14:31:19.001Z"
   },
   {
    "duration": 6,
    "start_time": "2024-12-12T14:31:43.298Z"
   },
   {
    "duration": 6,
    "start_time": "2024-12-12T14:32:47.678Z"
   },
   {
    "duration": 9,
    "start_time": "2024-12-12T14:33:02.617Z"
   },
   {
    "duration": 644,
    "start_time": "2024-12-12T14:33:33.455Z"
   },
   {
    "duration": 6,
    "start_time": "2024-12-12T14:33:41.496Z"
   },
   {
    "duration": 7,
    "start_time": "2024-12-12T14:34:43.918Z"
   },
   {
    "duration": 7,
    "start_time": "2024-12-12T14:35:01.926Z"
   },
   {
    "duration": 7,
    "start_time": "2024-12-12T14:35:06.319Z"
   },
   {
    "duration": 12,
    "start_time": "2024-12-12T14:35:36.970Z"
   },
   {
    "duration": 12,
    "start_time": "2024-12-12T14:35:45.786Z"
   },
   {
    "duration": 8,
    "start_time": "2024-12-12T14:37:56.616Z"
   },
   {
    "duration": 23,
    "start_time": "2024-12-12T14:39:35.513Z"
   },
   {
    "duration": 8,
    "start_time": "2024-12-12T14:41:02.186Z"
   },
   {
    "duration": 11,
    "start_time": "2024-12-12T14:41:25.120Z"
   },
   {
    "duration": 10,
    "start_time": "2024-12-12T14:41:41.107Z"
   },
   {
    "duration": 22,
    "start_time": "2024-12-12T14:42:18.163Z"
   },
   {
    "duration": 12,
    "start_time": "2024-12-12T14:42:52.813Z"
   },
   {
    "duration": 15,
    "start_time": "2024-12-12T14:44:42.597Z"
   },
   {
    "duration": 14,
    "start_time": "2024-12-12T14:44:53.577Z"
   },
   {
    "duration": 8,
    "start_time": "2024-12-12T14:45:27.941Z"
   },
   {
    "duration": 8,
    "start_time": "2024-12-12T14:45:53.125Z"
   },
   {
    "duration": 13,
    "start_time": "2024-12-12T14:46:34.860Z"
   },
   {
    "duration": 9,
    "start_time": "2024-12-12T14:46:54.172Z"
   },
   {
    "duration": 4,
    "start_time": "2024-12-12T14:48:08.925Z"
   },
   {
    "duration": 11,
    "start_time": "2024-12-12T14:49:48.381Z"
   },
   {
    "duration": 11,
    "start_time": "2024-12-12T14:50:13.863Z"
   },
   {
    "duration": 11,
    "start_time": "2024-12-12T14:50:31.551Z"
   },
   {
    "duration": 8,
    "start_time": "2024-12-12T14:50:41.253Z"
   },
   {
    "duration": 7,
    "start_time": "2024-12-12T14:52:11.038Z"
   },
   {
    "duration": 9,
    "start_time": "2024-12-12T14:52:17.057Z"
   },
   {
    "duration": 660,
    "start_time": "2024-12-12T14:52:55.911Z"
   },
   {
    "duration": 802,
    "start_time": "2024-12-12T14:53:02.160Z"
   },
   {
    "duration": 1229,
    "start_time": "2024-12-12T14:53:17.134Z"
   },
   {
    "duration": 717,
    "start_time": "2024-12-12T14:53:22.830Z"
   },
   {
    "duration": 8,
    "start_time": "2024-12-12T14:53:37.529Z"
   },
   {
    "duration": 9,
    "start_time": "2024-12-12T14:54:02.504Z"
   },
   {
    "duration": 24,
    "start_time": "2024-12-12T14:54:17.159Z"
   },
   {
    "duration": 11,
    "start_time": "2024-12-12T14:55:50.647Z"
   },
   {
    "duration": 10,
    "start_time": "2024-12-12T14:56:00.144Z"
   },
   {
    "duration": 9,
    "start_time": "2024-12-12T14:56:18.200Z"
   },
   {
    "duration": 17,
    "start_time": "2024-12-12T14:56:28.375Z"
   },
   {
    "duration": 17,
    "start_time": "2024-12-12T14:56:43.184Z"
   },
   {
    "duration": 12,
    "start_time": "2024-12-12T14:56:57.265Z"
   },
   {
    "duration": 8,
    "start_time": "2024-12-12T14:57:36.320Z"
   },
   {
    "duration": 439,
    "start_time": "2024-12-12T14:58:08.428Z"
   },
   {
    "duration": 11,
    "start_time": "2024-12-12T14:58:08.870Z"
   },
   {
    "duration": 22,
    "start_time": "2024-12-12T14:58:08.883Z"
   },
   {
    "duration": 23,
    "start_time": "2024-12-12T14:58:08.907Z"
   },
   {
    "duration": 13,
    "start_time": "2024-12-12T14:58:08.931Z"
   },
   {
    "duration": 41,
    "start_time": "2024-12-12T14:58:08.945Z"
   },
   {
    "duration": 0,
    "start_time": "2024-12-12T14:58:08.987Z"
   },
   {
    "duration": 0,
    "start_time": "2024-12-12T14:58:08.988Z"
   },
   {
    "duration": 0,
    "start_time": "2024-12-12T14:58:08.989Z"
   },
   {
    "duration": 77,
    "start_time": "2024-12-12T14:58:15.474Z"
   },
   {
    "duration": 9,
    "start_time": "2024-12-12T14:58:31.481Z"
   },
   {
    "duration": 8,
    "start_time": "2024-12-12T14:58:41.034Z"
   },
   {
    "duration": 8,
    "start_time": "2024-12-12T14:58:47.998Z"
   },
   {
    "duration": 22,
    "start_time": "2024-12-12T14:59:03.578Z"
   },
   {
    "duration": 514,
    "start_time": "2024-12-12T14:59:14.958Z"
   },
   {
    "duration": 10,
    "start_time": "2024-12-12T14:59:15.474Z"
   },
   {
    "duration": 35,
    "start_time": "2024-12-12T14:59:15.485Z"
   },
   {
    "duration": 12,
    "start_time": "2024-12-12T14:59:15.523Z"
   },
   {
    "duration": 27,
    "start_time": "2024-12-12T14:59:15.537Z"
   },
   {
    "duration": 47,
    "start_time": "2024-12-12T14:59:15.565Z"
   },
   {
    "duration": 0,
    "start_time": "2024-12-12T14:59:15.615Z"
   },
   {
    "duration": 0,
    "start_time": "2024-12-12T14:59:15.616Z"
   },
   {
    "duration": 0,
    "start_time": "2024-12-12T14:59:15.617Z"
   },
   {
    "duration": 23,
    "start_time": "2024-12-12T14:59:21.171Z"
   },
   {
    "duration": 69,
    "start_time": "2024-12-12T14:59:25.892Z"
   },
   {
    "duration": 8,
    "start_time": "2024-12-12T15:00:01.933Z"
   },
   {
    "duration": 458,
    "start_time": "2024-12-12T15:00:21.339Z"
   },
   {
    "duration": 9,
    "start_time": "2024-12-12T15:00:21.798Z"
   },
   {
    "duration": 24,
    "start_time": "2024-12-12T15:00:21.809Z"
   },
   {
    "duration": 10,
    "start_time": "2024-12-12T15:00:21.834Z"
   },
   {
    "duration": 12,
    "start_time": "2024-12-12T15:00:21.846Z"
   },
   {
    "duration": 49,
    "start_time": "2024-12-12T15:00:21.860Z"
   },
   {
    "duration": 0,
    "start_time": "2024-12-12T15:00:21.910Z"
   },
   {
    "duration": 0,
    "start_time": "2024-12-12T15:00:21.911Z"
   },
   {
    "duration": 0,
    "start_time": "2024-12-12T15:00:21.912Z"
   },
   {
    "duration": 69,
    "start_time": "2024-12-12T15:00:31.083Z"
   },
   {
    "duration": 9,
    "start_time": "2024-12-12T15:01:08.652Z"
   },
   {
    "duration": 20,
    "start_time": "2024-12-12T15:01:18.266Z"
   },
   {
    "duration": 694,
    "start_time": "2024-12-12T15:01:42.120Z"
   },
   {
    "duration": 707,
    "start_time": "2024-12-12T15:02:01.354Z"
   },
   {
    "duration": 811,
    "start_time": "2024-12-12T15:02:16.174Z"
   },
   {
    "duration": 436,
    "start_time": "2024-12-12T15:02:21.820Z"
   },
   {
    "duration": 9,
    "start_time": "2024-12-12T15:02:22.258Z"
   },
   {
    "duration": 15,
    "start_time": "2024-12-12T15:02:22.269Z"
   },
   {
    "duration": 10,
    "start_time": "2024-12-12T15:02:22.286Z"
   },
   {
    "duration": 29,
    "start_time": "2024-12-12T15:02:22.298Z"
   },
   {
    "duration": 103,
    "start_time": "2024-12-12T15:02:22.328Z"
   },
   {
    "duration": 0,
    "start_time": "2024-12-12T15:02:22.432Z"
   },
   {
    "duration": 0,
    "start_time": "2024-12-12T15:02:22.433Z"
   },
   {
    "duration": 0,
    "start_time": "2024-12-12T15:02:22.435Z"
   },
   {
    "duration": 768,
    "start_time": "2024-12-12T15:02:28.532Z"
   },
   {
    "duration": 751,
    "start_time": "2024-12-12T15:02:33.829Z"
   },
   {
    "duration": 445,
    "start_time": "2024-12-12T15:02:38.415Z"
   },
   {
    "duration": 10,
    "start_time": "2024-12-12T15:02:38.861Z"
   },
   {
    "duration": 35,
    "start_time": "2024-12-12T15:02:38.872Z"
   },
   {
    "duration": 27,
    "start_time": "2024-12-12T15:02:38.909Z"
   },
   {
    "duration": 72,
    "start_time": "2024-12-12T15:02:38.937Z"
   },
   {
    "duration": 57,
    "start_time": "2024-12-12T15:02:39.010Z"
   },
   {
    "duration": 0,
    "start_time": "2024-12-12T15:02:39.069Z"
   },
   {
    "duration": 0,
    "start_time": "2024-12-12T15:02:39.071Z"
   },
   {
    "duration": 0,
    "start_time": "2024-12-12T15:02:39.072Z"
   },
   {
    "duration": 896,
    "start_time": "2024-12-12T15:02:44.484Z"
   },
   {
    "duration": 23,
    "start_time": "2024-12-12T15:02:51.236Z"
   },
   {
    "duration": 6,
    "start_time": "2024-12-12T15:03:09.452Z"
   },
   {
    "duration": 21,
    "start_time": "2024-12-12T15:03:12.000Z"
   },
   {
    "duration": 16,
    "start_time": "2024-12-12T15:03:14.683Z"
   },
   {
    "duration": 10,
    "start_time": "2024-12-12T15:03:27.608Z"
   },
   {
    "duration": 5,
    "start_time": "2024-12-12T15:03:43.532Z"
   },
   {
    "duration": 62,
    "start_time": "2024-12-12T15:04:00.151Z"
   },
   {
    "duration": 8,
    "start_time": "2024-12-12T15:04:02.887Z"
   },
   {
    "duration": 15,
    "start_time": "2024-12-12T15:04:05.014Z"
   },
   {
    "duration": 9,
    "start_time": "2024-12-12T15:04:08.027Z"
   },
   {
    "duration": 11,
    "start_time": "2024-12-12T15:04:10.477Z"
   },
   {
    "duration": 4,
    "start_time": "2024-12-12T15:04:27.245Z"
   },
   {
    "duration": 22,
    "start_time": "2024-12-12T15:04:29.077Z"
   },
   {
    "duration": 829,
    "start_time": "2024-12-12T15:04:33.692Z"
   },
   {
    "duration": 4,
    "start_time": "2024-12-12T15:05:09.373Z"
   },
   {
    "duration": 24,
    "start_time": "2024-12-12T15:05:12.687Z"
   },
   {
    "duration": 6,
    "start_time": "2024-12-12T15:05:18.844Z"
   },
   {
    "duration": 20,
    "start_time": "2024-12-12T15:05:39.916Z"
   },
   {
    "duration": 13,
    "start_time": "2024-12-12T15:05:54.733Z"
   },
   {
    "duration": 12,
    "start_time": "2024-12-12T15:06:51.565Z"
   },
   {
    "duration": 13,
    "start_time": "2024-12-12T15:07:31.702Z"
   },
   {
    "duration": 10,
    "start_time": "2024-12-12T15:08:05.023Z"
   },
   {
    "duration": 12,
    "start_time": "2024-12-12T15:08:19.204Z"
   },
   {
    "duration": 15,
    "start_time": "2024-12-12T15:09:20.065Z"
   },
   {
    "duration": 16,
    "start_time": "2024-12-12T15:09:34.791Z"
   },
   {
    "duration": 14,
    "start_time": "2024-12-12T15:09:45.166Z"
   },
   {
    "duration": 14,
    "start_time": "2024-12-12T15:12:38.631Z"
   },
   {
    "duration": 13,
    "start_time": "2024-12-12T15:12:56.175Z"
   },
   {
    "duration": 16,
    "start_time": "2024-12-12T15:13:12.736Z"
   },
   {
    "duration": 15,
    "start_time": "2024-12-12T15:13:19.543Z"
   },
   {
    "duration": 15,
    "start_time": "2024-12-12T15:13:25.127Z"
   },
   {
    "duration": 469,
    "start_time": "2024-12-12T15:16:49.746Z"
   },
   {
    "duration": 170,
    "start_time": "2024-12-12T15:17:36.124Z"
   },
   {
    "duration": 10,
    "start_time": "2024-12-12T15:18:14.505Z"
   },
   {
    "duration": 14,
    "start_time": "2024-12-12T15:19:42.539Z"
   },
   {
    "duration": 20,
    "start_time": "2024-12-12T15:24:35.428Z"
   },
   {
    "duration": 26,
    "start_time": "2024-12-12T15:24:38.789Z"
   },
   {
    "duration": 9,
    "start_time": "2024-12-12T15:24:48.181Z"
   },
   {
    "duration": 34,
    "start_time": "2024-12-12T15:24:56.208Z"
   },
   {
    "duration": 25,
    "start_time": "2024-12-12T15:25:33.558Z"
   },
   {
    "duration": 481,
    "start_time": "2024-12-12T15:25:45.530Z"
   },
   {
    "duration": 9,
    "start_time": "2024-12-12T15:25:46.013Z"
   },
   {
    "duration": 51,
    "start_time": "2024-12-12T15:25:46.024Z"
   },
   {
    "duration": 12,
    "start_time": "2024-12-12T15:25:46.076Z"
   },
   {
    "duration": 18,
    "start_time": "2024-12-12T15:25:46.090Z"
   },
   {
    "duration": 4,
    "start_time": "2024-12-12T15:25:46.110Z"
   },
   {
    "duration": 53,
    "start_time": "2024-12-12T15:25:46.116Z"
   },
   {
    "duration": 73,
    "start_time": "2024-12-12T15:25:46.170Z"
   },
   {
    "duration": 11,
    "start_time": "2024-12-12T15:26:04.702Z"
   },
   {
    "duration": 24,
    "start_time": "2024-12-12T15:26:08.285Z"
   },
   {
    "duration": 19,
    "start_time": "2024-12-12T15:26:10.244Z"
   },
   {
    "duration": 49,
    "start_time": "2024-12-13T10:23:46.275Z"
   },
   {
    "duration": 633,
    "start_time": "2024-12-13T10:23:52.366Z"
   },
   {
    "duration": 10,
    "start_time": "2024-12-13T10:23:53.002Z"
   },
   {
    "duration": 19,
    "start_time": "2024-12-13T10:23:53.014Z"
   },
   {
    "duration": 11,
    "start_time": "2024-12-13T10:23:53.036Z"
   },
   {
    "duration": 26,
    "start_time": "2024-12-13T10:23:53.049Z"
   },
   {
    "duration": 5,
    "start_time": "2024-12-13T10:23:53.077Z"
   },
   {
    "duration": 35,
    "start_time": "2024-12-13T10:23:53.083Z"
   },
   {
    "duration": 32,
    "start_time": "2024-12-13T10:23:53.120Z"
   },
   {
    "duration": 0,
    "start_time": "2024-12-13T10:23:53.153Z"
   },
   {
    "duration": 7,
    "start_time": "2024-12-13T10:24:07.658Z"
   },
   {
    "duration": 8,
    "start_time": "2024-12-13T10:24:36.384Z"
   },
   {
    "duration": 65,
    "start_time": "2024-12-13T10:24:42.611Z"
   },
   {
    "duration": 9,
    "start_time": "2024-12-13T10:24:45.080Z"
   },
   {
    "duration": 15,
    "start_time": "2024-12-13T10:24:47.836Z"
   },
   {
    "duration": 11,
    "start_time": "2024-12-13T10:24:49.772Z"
   },
   {
    "duration": 13,
    "start_time": "2024-12-13T10:24:50.741Z"
   },
   {
    "duration": 4,
    "start_time": "2024-12-13T10:24:53.825Z"
   },
   {
    "duration": 22,
    "start_time": "2024-12-13T10:24:55.342Z"
   },
   {
    "duration": 9,
    "start_time": "2024-12-13T10:24:57.569Z"
   },
   {
    "duration": 11,
    "start_time": "2024-12-13T10:25:16.065Z"
   },
   {
    "duration": 24,
    "start_time": "2024-12-13T10:25:52.796Z"
   },
   {
    "duration": 23,
    "start_time": "2024-12-13T10:25:58.267Z"
   },
   {
    "duration": 18,
    "start_time": "2024-12-13T10:26:05.062Z"
   },
   {
    "duration": 7,
    "start_time": "2024-12-13T10:26:07.079Z"
   },
   {
    "duration": 14,
    "start_time": "2024-12-13T10:26:47.439Z"
   },
   {
    "duration": 19,
    "start_time": "2024-12-13T10:28:10.619Z"
   },
   {
    "duration": 6,
    "start_time": "2024-12-13T10:28:35.385Z"
   },
   {
    "duration": 14,
    "start_time": "2024-12-13T10:29:37.282Z"
   },
   {
    "duration": 6,
    "start_time": "2024-12-13T10:29:55.199Z"
   },
   {
    "duration": 9,
    "start_time": "2024-12-13T10:30:10.249Z"
   },
   {
    "duration": 994,
    "start_time": "2024-12-13T10:30:33.535Z"
   },
   {
    "duration": 977,
    "start_time": "2024-12-13T10:50:22.796Z"
   },
   {
    "duration": 10,
    "start_time": "2024-12-13T10:51:55.767Z"
   },
   {
    "duration": 1060,
    "start_time": "2024-12-13T10:54:03.436Z"
   },
   {
    "duration": 1029,
    "start_time": "2024-12-13T10:58:29.898Z"
   },
   {
    "duration": 8,
    "start_time": "2024-12-13T10:59:05.580Z"
   },
   {
    "duration": 5,
    "start_time": "2024-12-13T10:59:34.565Z"
   },
   {
    "duration": 525,
    "start_time": "2024-12-13T11:01:15.543Z"
   },
   {
    "duration": 9,
    "start_time": "2024-12-13T11:01:16.070Z"
   },
   {
    "duration": 26,
    "start_time": "2024-12-13T11:01:16.083Z"
   },
   {
    "duration": 15,
    "start_time": "2024-12-13T11:01:16.111Z"
   },
   {
    "duration": 29,
    "start_time": "2024-12-13T11:01:16.127Z"
   },
   {
    "duration": 23,
    "start_time": "2024-12-13T11:01:16.158Z"
   },
   {
    "duration": 38,
    "start_time": "2024-12-13T11:01:16.183Z"
   },
   {
    "duration": 11,
    "start_time": "2024-12-13T11:01:16.222Z"
   },
   {
    "duration": 92,
    "start_time": "2024-12-13T11:01:16.235Z"
   },
   {
    "duration": 0,
    "start_time": "2024-12-13T11:01:16.328Z"
   },
   {
    "duration": 0,
    "start_time": "2024-12-13T11:01:16.329Z"
   },
   {
    "duration": 10,
    "start_time": "2024-12-13T11:01:47.442Z"
   },
   {
    "duration": 22,
    "start_time": "2024-12-13T11:02:02.400Z"
   },
   {
    "duration": 1406,
    "start_time": "2024-12-13T11:04:24.239Z"
   },
   {
    "duration": 66,
    "start_time": "2024-12-13T11:04:30.173Z"
   },
   {
    "duration": 9,
    "start_time": "2024-12-13T11:04:30.241Z"
   },
   {
    "duration": 42,
    "start_time": "2024-12-13T11:04:30.251Z"
   },
   {
    "duration": 26,
    "start_time": "2024-12-13T11:04:30.295Z"
   },
   {
    "duration": 54,
    "start_time": "2024-12-13T11:04:30.323Z"
   },
   {
    "duration": 22,
    "start_time": "2024-12-13T11:04:30.379Z"
   },
   {
    "duration": 49,
    "start_time": "2024-12-13T11:04:30.402Z"
   },
   {
    "duration": 25,
    "start_time": "2024-12-13T11:04:30.453Z"
   },
   {
    "duration": 38,
    "start_time": "2024-12-13T11:04:30.479Z"
   },
   {
    "duration": 0,
    "start_time": "2024-12-13T11:04:30.518Z"
   },
   {
    "duration": 0,
    "start_time": "2024-12-13T11:04:30.519Z"
   },
   {
    "duration": 1480,
    "start_time": "2024-12-13T11:04:36.335Z"
   },
   {
    "duration": 65,
    "start_time": "2024-12-13T11:06:31.455Z"
   },
   {
    "duration": 9,
    "start_time": "2024-12-13T11:06:31.523Z"
   },
   {
    "duration": 38,
    "start_time": "2024-12-13T11:06:31.533Z"
   },
   {
    "duration": 27,
    "start_time": "2024-12-13T11:06:31.573Z"
   },
   {
    "duration": 32,
    "start_time": "2024-12-13T11:06:31.602Z"
   },
   {
    "duration": 31,
    "start_time": "2024-12-13T11:06:31.636Z"
   },
   {
    "duration": 46,
    "start_time": "2024-12-13T11:06:31.669Z"
   },
   {
    "duration": 11,
    "start_time": "2024-12-13T11:06:31.717Z"
   },
   {
    "duration": 34,
    "start_time": "2024-12-13T11:06:31.729Z"
   },
   {
    "duration": 0,
    "start_time": "2024-12-13T11:06:31.765Z"
   },
   {
    "duration": 9,
    "start_time": "2024-12-13T11:06:34.555Z"
   },
   {
    "duration": 1400,
    "start_time": "2024-12-13T11:06:38.326Z"
   },
   {
    "duration": 10,
    "start_time": "2024-12-13T11:06:42.273Z"
   },
   {
    "duration": 65,
    "start_time": "2024-12-13T11:06:47.235Z"
   },
   {
    "duration": 9,
    "start_time": "2024-12-13T11:06:49.301Z"
   },
   {
    "duration": 15,
    "start_time": "2024-12-13T11:06:51.542Z"
   },
   {
    "duration": 18,
    "start_time": "2024-12-13T11:06:54.084Z"
   },
   {
    "duration": 14,
    "start_time": "2024-12-13T11:06:55.835Z"
   },
   {
    "duration": 5,
    "start_time": "2024-12-13T11:06:58.800Z"
   },
   {
    "duration": 24,
    "start_time": "2024-12-13T11:07:00.903Z"
   },
   {
    "duration": 11,
    "start_time": "2024-12-13T11:07:02.797Z"
   },
   {
    "duration": 8,
    "start_time": "2024-12-13T11:07:05.140Z"
   },
   {
    "duration": 9,
    "start_time": "2024-12-13T11:07:07.170Z"
   },
   {
    "duration": 9,
    "start_time": "2024-12-13T11:07:14.483Z"
   },
   {
    "duration": 511,
    "start_time": "2024-12-13T11:07:18.148Z"
   },
   {
    "duration": 9,
    "start_time": "2024-12-13T11:07:18.661Z"
   },
   {
    "duration": 22,
    "start_time": "2024-12-13T11:07:18.674Z"
   },
   {
    "duration": 11,
    "start_time": "2024-12-13T11:07:18.699Z"
   },
   {
    "duration": 44,
    "start_time": "2024-12-13T11:07:18.712Z"
   },
   {
    "duration": 3,
    "start_time": "2024-12-13T11:07:18.758Z"
   },
   {
    "duration": 23,
    "start_time": "2024-12-13T11:07:18.763Z"
   },
   {
    "duration": 30,
    "start_time": "2024-12-13T11:07:18.787Z"
   },
   {
    "duration": 114,
    "start_time": "2024-12-13T11:07:18.819Z"
   },
   {
    "duration": 0,
    "start_time": "2024-12-13T11:07:18.935Z"
   },
   {
    "duration": 0,
    "start_time": "2024-12-13T11:07:18.936Z"
   },
   {
    "duration": 515,
    "start_time": "2024-12-13T11:09:50.163Z"
   },
   {
    "duration": 10,
    "start_time": "2024-12-13T11:09:50.680Z"
   },
   {
    "duration": 22,
    "start_time": "2024-12-13T11:09:50.692Z"
   },
   {
    "duration": 149,
    "start_time": "2024-12-13T11:09:50.716Z"
   },
   {
    "duration": 39,
    "start_time": "2024-12-13T11:09:50.867Z"
   },
   {
    "duration": 19,
    "start_time": "2024-12-13T11:09:50.908Z"
   },
   {
    "duration": 49,
    "start_time": "2024-12-13T11:09:50.929Z"
   },
   {
    "duration": 32,
    "start_time": "2024-12-13T11:09:50.980Z"
   },
   {
    "duration": 76,
    "start_time": "2024-12-13T11:09:51.014Z"
   },
   {
    "duration": 0,
    "start_time": "2024-12-13T11:09:51.091Z"
   },
   {
    "duration": 0,
    "start_time": "2024-12-13T11:09:51.093Z"
   },
   {
    "duration": 9,
    "start_time": "2024-12-13T11:10:01.588Z"
   },
   {
    "duration": 66,
    "start_time": "2024-12-13T11:10:08.304Z"
   },
   {
    "duration": 8,
    "start_time": "2024-12-13T11:10:10.385Z"
   },
   {
    "duration": 16,
    "start_time": "2024-12-13T11:10:12.457Z"
   },
   {
    "duration": 12,
    "start_time": "2024-12-13T11:10:14.537Z"
   },
   {
    "duration": 15,
    "start_time": "2024-12-13T11:10:16.531Z"
   },
   {
    "duration": 4,
    "start_time": "2024-12-13T11:10:19.718Z"
   },
   {
    "duration": 23,
    "start_time": "2024-12-13T11:10:21.951Z"
   },
   {
    "duration": 11,
    "start_time": "2024-12-13T11:10:23.694Z"
   },
   {
    "duration": 8,
    "start_time": "2024-12-13T11:10:26.123Z"
   },
   {
    "duration": 9,
    "start_time": "2024-12-13T11:10:30.834Z"
   },
   {
    "duration": 497,
    "start_time": "2024-12-13T11:10:41.259Z"
   },
   {
    "duration": 10,
    "start_time": "2024-12-13T11:10:45.246Z"
   },
   {
    "duration": 16,
    "start_time": "2024-12-13T11:10:47.659Z"
   },
   {
    "duration": 11,
    "start_time": "2024-12-13T11:10:49.398Z"
   },
   {
    "duration": 14,
    "start_time": "2024-12-13T11:10:51.996Z"
   },
   {
    "duration": 4,
    "start_time": "2024-12-13T11:10:56.260Z"
   },
   {
    "duration": 23,
    "start_time": "2024-12-13T11:10:58.296Z"
   },
   {
    "duration": 12,
    "start_time": "2024-12-13T11:10:59.903Z"
   },
   {
    "duration": 70,
    "start_time": "2024-12-13T11:11:14.687Z"
   },
   {
    "duration": 9,
    "start_time": "2024-12-13T11:11:17.066Z"
   },
   {
    "duration": 22,
    "start_time": "2024-12-13T11:11:29.133Z"
   },
   {
    "duration": 18,
    "start_time": "2024-12-13T11:11:33.872Z"
   },
   {
    "duration": 14,
    "start_time": "2024-12-13T11:11:37.014Z"
   },
   {
    "duration": 20,
    "start_time": "2024-12-13T11:53:04.721Z"
   },
   {
    "duration": 51,
    "start_time": "2024-12-13T18:55:24.339Z"
   },
   {
    "duration": 530,
    "start_time": "2024-12-14T14:00:28.922Z"
   },
   {
    "duration": 9,
    "start_time": "2024-12-14T14:00:29.454Z"
   },
   {
    "duration": 55,
    "start_time": "2024-12-14T14:00:29.465Z"
   },
   {
    "duration": 20,
    "start_time": "2024-12-14T14:00:29.522Z"
   },
   {
    "duration": 14,
    "start_time": "2024-12-14T14:00:29.545Z"
   },
   {
    "duration": 20,
    "start_time": "2024-12-14T14:00:29.560Z"
   },
   {
    "duration": 16,
    "start_time": "2024-12-14T14:00:35.025Z"
   },
   {
    "duration": 20,
    "start_time": "2024-12-14T14:01:33.859Z"
   },
   {
    "duration": 23,
    "start_time": "2024-12-14T14:01:59.465Z"
   },
   {
    "duration": 12,
    "start_time": "2024-12-14T14:02:08.560Z"
   },
   {
    "duration": 28,
    "start_time": "2024-12-14T14:07:30.817Z"
   },
   {
    "duration": 7,
    "start_time": "2024-12-14T14:10:00.929Z"
   },
   {
    "duration": 5,
    "start_time": "2024-12-14T14:11:21.611Z"
   },
   {
    "duration": 31,
    "start_time": "2024-12-14T14:12:14.428Z"
   },
   {
    "duration": 26,
    "start_time": "2024-12-14T14:12:38.235Z"
   },
   {
    "duration": 6,
    "start_time": "2024-12-14T14:12:43.747Z"
   },
   {
    "duration": 6,
    "start_time": "2024-12-14T14:12:51.770Z"
   },
   {
    "duration": 33,
    "start_time": "2024-12-14T14:13:31.811Z"
   },
   {
    "duration": 15,
    "start_time": "2024-12-14T14:13:44.698Z"
   },
   {
    "duration": 6,
    "start_time": "2024-12-14T14:15:43.731Z"
   },
   {
    "duration": 68,
    "start_time": "2024-12-14T14:19:54.052Z"
   },
   {
    "duration": 12,
    "start_time": "2024-12-14T14:20:20.144Z"
   },
   {
    "duration": 14,
    "start_time": "2024-12-14T14:21:18.317Z"
   },
   {
    "duration": 10,
    "start_time": "2024-12-14T14:23:00.948Z"
   },
   {
    "duration": 32,
    "start_time": "2024-12-14T14:23:29.886Z"
   },
   {
    "duration": 14,
    "start_time": "2024-12-14T14:24:04.046Z"
   },
   {
    "duration": 10,
    "start_time": "2024-12-14T14:24:31.086Z"
   },
   {
    "duration": 38,
    "start_time": "2024-12-14T14:25:36.637Z"
   },
   {
    "duration": 42,
    "start_time": "2024-12-14T14:26:37.654Z"
   },
   {
    "duration": 13,
    "start_time": "2024-12-14T14:26:43.110Z"
   },
   {
    "duration": 506,
    "start_time": "2024-12-14T14:28:16.611Z"
   },
   {
    "duration": 9,
    "start_time": "2024-12-14T14:28:17.119Z"
   },
   {
    "duration": 27,
    "start_time": "2024-12-14T14:28:17.130Z"
   },
   {
    "duration": 12,
    "start_time": "2024-12-14T14:28:17.159Z"
   },
   {
    "duration": 28,
    "start_time": "2024-12-14T14:28:17.173Z"
   },
   {
    "duration": 4,
    "start_time": "2024-12-14T14:28:17.203Z"
   },
   {
    "duration": 5,
    "start_time": "2024-12-14T14:28:17.208Z"
   },
   {
    "duration": 28,
    "start_time": "2024-12-14T14:28:17.215Z"
   },
   {
    "duration": 24,
    "start_time": "2024-12-14T14:28:17.244Z"
   },
   {
    "duration": 23,
    "start_time": "2024-12-14T14:28:17.270Z"
   },
   {
    "duration": 39,
    "start_time": "2024-12-14T14:28:17.295Z"
   },
   {
    "duration": 43,
    "start_time": "2024-12-14T14:28:17.336Z"
   },
   {
    "duration": 11,
    "start_time": "2024-12-14T14:29:33.264Z"
   },
   {
    "duration": 507,
    "start_time": "2024-12-14T14:30:54.111Z"
   },
   {
    "duration": 13,
    "start_time": "2024-12-14T14:30:54.620Z"
   },
   {
    "duration": 23,
    "start_time": "2024-12-14T14:30:54.635Z"
   },
   {
    "duration": 12,
    "start_time": "2024-12-14T14:30:54.659Z"
   },
   {
    "duration": 13,
    "start_time": "2024-12-14T14:30:54.673Z"
   },
   {
    "duration": 4,
    "start_time": "2024-12-14T14:30:54.687Z"
   },
   {
    "duration": 26,
    "start_time": "2024-12-14T14:30:54.692Z"
   },
   {
    "duration": 28,
    "start_time": "2024-12-14T14:30:54.719Z"
   },
   {
    "duration": 20,
    "start_time": "2024-12-14T14:30:54.749Z"
   },
   {
    "duration": 22,
    "start_time": "2024-12-14T14:30:54.771Z"
   },
   {
    "duration": 15,
    "start_time": "2024-12-14T14:30:54.794Z"
   },
   {
    "duration": 48,
    "start_time": "2024-12-14T14:30:54.838Z"
   },
   {
    "duration": 5,
    "start_time": "2024-12-14T14:30:54.888Z"
   },
   {
    "duration": 10,
    "start_time": "2024-12-14T14:32:00.086Z"
   },
   {
    "duration": 10,
    "start_time": "2024-12-14T14:36:33.811Z"
   },
   {
    "duration": 1449,
    "start_time": "2024-12-14T14:36:36.504Z"
   },
   {
    "duration": 11,
    "start_time": "2024-12-14T14:36:46.642Z"
   },
   {
    "duration": 12,
    "start_time": "2024-12-14T14:37:27.318Z"
   },
   {
    "duration": 10,
    "start_time": "2024-12-14T14:37:51.171Z"
   },
   {
    "duration": 1374,
    "start_time": "2024-12-14T15:34:51.624Z"
   },
   {
    "duration": 1263,
    "start_time": "2024-12-14T15:35:05.918Z"
   },
   {
    "duration": 1304,
    "start_time": "2024-12-14T15:35:17.423Z"
   },
   {
    "duration": 1294,
    "start_time": "2024-12-14T15:35:30.078Z"
   },
   {
    "duration": 1395,
    "start_time": "2024-12-14T15:36:00.840Z"
   },
   {
    "duration": 4,
    "start_time": "2024-12-14T15:36:24.974Z"
   },
   {
    "duration": 5,
    "start_time": "2024-12-14T15:36:32.029Z"
   },
   {
    "duration": 5,
    "start_time": "2024-12-14T15:36:44.327Z"
   },
   {
    "duration": 11,
    "start_time": "2024-12-14T15:38:10.281Z"
   },
   {
    "duration": 20,
    "start_time": "2024-12-14T15:39:19.207Z"
   },
   {
    "duration": 22,
    "start_time": "2024-12-14T15:39:54.796Z"
   },
   {
    "duration": 7,
    "start_time": "2024-12-14T15:44:06.560Z"
   },
   {
    "duration": 10,
    "start_time": "2024-12-14T15:44:38.927Z"
   },
   {
    "duration": 9,
    "start_time": "2024-12-14T15:44:50.576Z"
   },
   {
    "duration": 17,
    "start_time": "2024-12-14T15:44:58.511Z"
   },
   {
    "duration": 23,
    "start_time": "2024-12-14T15:45:08.440Z"
   },
   {
    "duration": 20,
    "start_time": "2024-12-14T15:45:53.480Z"
   },
   {
    "duration": 34,
    "start_time": "2024-12-14T15:46:16.005Z"
   },
   {
    "duration": 22,
    "start_time": "2024-12-14T15:46:46.632Z"
   },
   {
    "duration": 9,
    "start_time": "2024-12-14T15:47:26.160Z"
   },
   {
    "duration": 9,
    "start_time": "2024-12-14T15:47:42.064Z"
   },
   {
    "duration": 10,
    "start_time": "2024-12-14T15:48:07.672Z"
   },
   {
    "duration": 7,
    "start_time": "2024-12-14T15:48:17.641Z"
   },
   {
    "duration": 9,
    "start_time": "2024-12-14T15:55:10.569Z"
   },
   {
    "duration": 519,
    "start_time": "2024-12-14T16:05:03.810Z"
   },
   {
    "duration": 10,
    "start_time": "2024-12-14T16:05:04.331Z"
   },
   {
    "duration": 121,
    "start_time": "2024-12-14T16:05:04.343Z"
   },
   {
    "duration": 105,
    "start_time": "2024-12-14T16:05:04.466Z"
   },
   {
    "duration": 48,
    "start_time": "2024-12-14T16:05:04.573Z"
   },
   {
    "duration": 44,
    "start_time": "2024-12-14T16:05:04.623Z"
   },
   {
    "duration": 43,
    "start_time": "2024-12-14T16:05:04.669Z"
   },
   {
    "duration": 55,
    "start_time": "2024-12-14T16:05:04.713Z"
   },
   {
    "duration": 78,
    "start_time": "2024-12-14T16:05:04.769Z"
   },
   {
    "duration": 44,
    "start_time": "2024-12-14T16:05:04.848Z"
   },
   {
    "duration": 38,
    "start_time": "2024-12-14T16:05:04.893Z"
   },
   {
    "duration": 98,
    "start_time": "2024-12-14T16:05:04.932Z"
   },
   {
    "duration": 20,
    "start_time": "2024-12-14T16:05:05.032Z"
   },
   {
    "duration": 23,
    "start_time": "2024-12-14T16:05:05.054Z"
   },
   {
    "duration": 64,
    "start_time": "2024-12-14T16:06:44.713Z"
   },
   {
    "duration": 10,
    "start_time": "2024-12-14T16:07:15.098Z"
   },
   {
    "duration": 15,
    "start_time": "2024-12-14T16:07:23.763Z"
   },
   {
    "duration": 10,
    "start_time": "2024-12-14T16:10:15.954Z"
   },
   {
    "duration": 179,
    "start_time": "2024-12-14T16:10:36.963Z"
   },
   {
    "duration": 10,
    "start_time": "2024-12-14T16:10:49.747Z"
   },
   {
    "duration": 9,
    "start_time": "2024-12-14T16:12:01.258Z"
   },
   {
    "duration": 8,
    "start_time": "2024-12-14T16:12:05.684Z"
   },
   {
    "duration": 7,
    "start_time": "2024-12-14T16:12:39.611Z"
   },
   {
    "duration": 1275,
    "start_time": "2024-12-14T16:13:07.666Z"
   },
   {
    "duration": 13,
    "start_time": "2024-12-14T16:13:14.373Z"
   },
   {
    "duration": 11,
    "start_time": "2024-12-14T16:16:01.085Z"
   },
   {
    "duration": 11,
    "start_time": "2024-12-14T16:16:08.868Z"
   },
   {
    "duration": 8,
    "start_time": "2024-12-14T16:18:27.697Z"
   },
   {
    "duration": 26,
    "start_time": "2024-12-14T16:18:43.932Z"
   },
   {
    "duration": 16,
    "start_time": "2024-12-14T16:18:53.557Z"
   },
   {
    "duration": 17,
    "start_time": "2024-12-14T16:19:43.500Z"
   },
   {
    "duration": 16,
    "start_time": "2024-12-14T16:20:21.668Z"
   },
   {
    "duration": 22,
    "start_time": "2024-12-14T16:20:59.348Z"
   },
   {
    "duration": 17,
    "start_time": "2024-12-14T16:21:02.365Z"
   },
   {
    "duration": 30,
    "start_time": "2024-12-14T16:21:33.017Z"
   },
   {
    "duration": 18,
    "start_time": "2024-12-14T16:21:36.389Z"
   },
   {
    "duration": 16,
    "start_time": "2024-12-14T16:21:39.827Z"
   },
   {
    "duration": 27,
    "start_time": "2024-12-14T16:24:50.334Z"
   },
   {
    "duration": 30,
    "start_time": "2024-12-14T16:24:55.862Z"
   },
   {
    "duration": 43,
    "start_time": "2024-12-14T16:25:04.780Z"
   },
   {
    "duration": 31,
    "start_time": "2024-12-14T16:26:04.573Z"
   },
   {
    "duration": 42,
    "start_time": "2024-12-14T16:26:13.901Z"
   },
   {
    "duration": 37,
    "start_time": "2024-12-14T16:30:47.902Z"
   },
   {
    "duration": 21,
    "start_time": "2024-12-14T16:31:16.087Z"
   },
   {
    "duration": 31,
    "start_time": "2024-12-14T16:32:14.783Z"
   },
   {
    "duration": 25,
    "start_time": "2024-12-14T16:32:17.445Z"
   },
   {
    "duration": 630,
    "start_time": "2024-12-14T19:15:13.899Z"
   },
   {
    "duration": 10,
    "start_time": "2024-12-14T19:15:14.531Z"
   },
   {
    "duration": 16,
    "start_time": "2024-12-14T19:15:14.543Z"
   },
   {
    "duration": 12,
    "start_time": "2024-12-14T19:15:14.561Z"
   },
   {
    "duration": 12,
    "start_time": "2024-12-14T19:15:14.574Z"
   },
   {
    "duration": 4,
    "start_time": "2024-12-14T19:15:14.587Z"
   },
   {
    "duration": 7,
    "start_time": "2024-12-14T19:15:14.593Z"
   },
   {
    "duration": 10,
    "start_time": "2024-12-14T19:15:14.602Z"
   },
   {
    "duration": 25,
    "start_time": "2024-12-14T19:15:14.614Z"
   },
   {
    "duration": 48,
    "start_time": "2024-12-14T19:15:14.641Z"
   },
   {
    "duration": 15,
    "start_time": "2024-12-14T19:15:14.690Z"
   },
   {
    "duration": 64,
    "start_time": "2024-12-14T19:15:14.706Z"
   },
   {
    "duration": 10,
    "start_time": "2024-12-14T19:15:14.772Z"
   },
   {
    "duration": 26,
    "start_time": "2024-12-14T19:15:14.783Z"
   },
   {
    "duration": 19,
    "start_time": "2024-12-14T19:15:14.811Z"
   },
   {
    "duration": 39,
    "start_time": "2024-12-14T19:15:14.832Z"
   },
   {
    "duration": 17,
    "start_time": "2024-12-14T19:15:14.872Z"
   },
   {
    "duration": 92,
    "start_time": "2024-12-14T19:15:14.891Z"
   },
   {
    "duration": 67,
    "start_time": "2024-12-14T19:15:30.440Z"
   },
   {
    "duration": 8,
    "start_time": "2024-12-14T19:15:30.509Z"
   },
   {
    "duration": 51,
    "start_time": "2024-12-14T19:15:30.518Z"
   },
   {
    "duration": 23,
    "start_time": "2024-12-14T19:15:30.570Z"
   },
   {
    "duration": 30,
    "start_time": "2024-12-14T19:15:30.595Z"
   },
   {
    "duration": 10,
    "start_time": "2024-12-14T19:15:30.627Z"
   },
   {
    "duration": 23,
    "start_time": "2024-12-14T19:15:30.638Z"
   },
   {
    "duration": 17,
    "start_time": "2024-12-14T19:15:30.662Z"
   },
   {
    "duration": 44,
    "start_time": "2024-12-14T19:15:30.680Z"
   },
   {
    "duration": 51,
    "start_time": "2024-12-14T19:15:30.725Z"
   },
   {
    "duration": 53,
    "start_time": "2024-12-14T19:15:30.778Z"
   },
   {
    "duration": 82,
    "start_time": "2024-12-14T19:15:30.832Z"
   },
   {
    "duration": 75,
    "start_time": "2024-12-14T19:15:30.916Z"
   },
   {
    "duration": 105,
    "start_time": "2024-12-14T19:15:30.993Z"
   },
   {
    "duration": 46,
    "start_time": "2024-12-14T19:15:31.100Z"
   },
   {
    "duration": 47,
    "start_time": "2024-12-14T19:15:31.147Z"
   },
   {
    "duration": 14,
    "start_time": "2024-12-14T19:15:31.196Z"
   },
   {
    "duration": 34,
    "start_time": "2024-12-14T19:15:31.212Z"
   },
   {
    "duration": 12,
    "start_time": "2024-12-14T19:17:19.216Z"
   },
   {
    "duration": 10,
    "start_time": "2024-12-14T19:17:29.376Z"
   },
   {
    "duration": 16,
    "start_time": "2024-12-14T19:18:32.512Z"
   },
   {
    "duration": 75,
    "start_time": "2024-12-14T19:19:02.033Z"
   },
   {
    "duration": 11,
    "start_time": "2024-12-14T19:20:27.809Z"
   },
   {
    "duration": 17,
    "start_time": "2024-12-14T19:20:46.367Z"
   },
   {
    "duration": 27,
    "start_time": "2024-12-14T19:21:15.689Z"
   },
   {
    "duration": 30,
    "start_time": "2024-12-14T19:21:44.745Z"
   },
   {
    "duration": 9,
    "start_time": "2024-12-14T19:22:22.090Z"
   },
   {
    "duration": 10,
    "start_time": "2024-12-14T19:22:28.377Z"
   },
   {
    "duration": 11,
    "start_time": "2024-12-14T19:25:22.449Z"
   },
   {
    "duration": 22,
    "start_time": "2024-12-14T19:26:23.577Z"
   },
   {
    "duration": 24,
    "start_time": "2024-12-14T19:27:09.561Z"
   },
   {
    "duration": 442,
    "start_time": "2024-12-14T19:33:31.817Z"
   },
   {
    "duration": 10,
    "start_time": "2024-12-14T19:33:32.261Z"
   },
   {
    "duration": 17,
    "start_time": "2024-12-14T19:33:32.273Z"
   },
   {
    "duration": 12,
    "start_time": "2024-12-14T19:33:32.292Z"
   },
   {
    "duration": 22,
    "start_time": "2024-12-14T19:33:32.305Z"
   },
   {
    "duration": 34,
    "start_time": "2024-12-14T19:33:32.329Z"
   },
   {
    "duration": 6,
    "start_time": "2024-12-14T19:33:32.365Z"
   },
   {
    "duration": 12,
    "start_time": "2024-12-14T19:33:32.372Z"
   },
   {
    "duration": 15,
    "start_time": "2024-12-14T19:33:32.385Z"
   },
   {
    "duration": 19,
    "start_time": "2024-12-14T19:33:32.403Z"
   },
   {
    "duration": 47,
    "start_time": "2024-12-14T19:33:32.424Z"
   },
   {
    "duration": 15,
    "start_time": "2024-12-14T19:33:32.473Z"
   },
   {
    "duration": 62,
    "start_time": "2024-12-14T19:33:32.490Z"
   },
   {
    "duration": 18,
    "start_time": "2024-12-14T19:33:32.554Z"
   },
   {
    "duration": 10,
    "start_time": "2024-12-14T19:33:32.574Z"
   },
   {
    "duration": 35,
    "start_time": "2024-12-14T19:33:32.585Z"
   },
   {
    "duration": 47,
    "start_time": "2024-12-14T19:33:32.621Z"
   },
   {
    "duration": 10,
    "start_time": "2024-12-14T19:33:32.670Z"
   },
   {
    "duration": 25,
    "start_time": "2024-12-14T19:33:32.681Z"
   },
   {
    "duration": 510,
    "start_time": "2024-12-14T19:34:00.049Z"
   },
   {
    "duration": 8,
    "start_time": "2024-12-14T19:34:00.561Z"
   },
   {
    "duration": 20,
    "start_time": "2024-12-14T19:34:00.573Z"
   },
   {
    "duration": 11,
    "start_time": "2024-12-14T19:34:00.594Z"
   },
   {
    "duration": 33,
    "start_time": "2024-12-14T19:34:00.607Z"
   },
   {
    "duration": 30,
    "start_time": "2024-12-14T19:34:00.642Z"
   },
   {
    "duration": 12,
    "start_time": "2024-12-14T19:34:00.674Z"
   },
   {
    "duration": 13,
    "start_time": "2024-12-14T19:34:00.687Z"
   },
   {
    "duration": 36,
    "start_time": "2024-12-14T19:34:00.703Z"
   },
   {
    "duration": 45,
    "start_time": "2024-12-14T19:34:00.741Z"
   },
   {
    "duration": 16,
    "start_time": "2024-12-14T19:34:00.788Z"
   },
   {
    "duration": 21,
    "start_time": "2024-12-14T19:34:00.806Z"
   },
   {
    "duration": 16,
    "start_time": "2024-12-14T19:34:00.828Z"
   },
   {
    "duration": 62,
    "start_time": "2024-12-14T19:34:00.845Z"
   },
   {
    "duration": 8,
    "start_time": "2024-12-14T19:34:00.909Z"
   },
   {
    "duration": 42,
    "start_time": "2024-12-14T19:34:00.919Z"
   },
   {
    "duration": 12,
    "start_time": "2024-12-14T19:34:00.963Z"
   },
   {
    "duration": 32,
    "start_time": "2024-12-14T19:34:00.977Z"
   },
   {
    "duration": 71,
    "start_time": "2024-12-14T19:34:01.010Z"
   },
   {
    "duration": 25,
    "start_time": "2024-12-14T19:34:01.082Z"
   },
   {
    "duration": 508,
    "start_time": "2024-12-14T19:42:55.754Z"
   },
   {
    "duration": 10,
    "start_time": "2024-12-14T19:42:56.263Z"
   },
   {
    "duration": 16,
    "start_time": "2024-12-14T19:42:56.277Z"
   },
   {
    "duration": 20,
    "start_time": "2024-12-14T19:42:56.294Z"
   },
   {
    "duration": 13,
    "start_time": "2024-12-14T19:42:56.315Z"
   },
   {
    "duration": 3,
    "start_time": "2024-12-14T19:42:56.330Z"
   },
   {
    "duration": 8,
    "start_time": "2024-12-14T19:42:56.335Z"
   },
   {
    "duration": 26,
    "start_time": "2024-12-14T19:42:56.345Z"
   },
   {
    "duration": 18,
    "start_time": "2024-12-14T19:42:56.374Z"
   },
   {
    "duration": 6,
    "start_time": "2024-12-14T19:42:56.393Z"
   },
   {
    "duration": 21,
    "start_time": "2024-12-14T19:42:56.400Z"
   },
   {
    "duration": 64,
    "start_time": "2024-12-14T19:42:56.422Z"
   },
   {
    "duration": 11,
    "start_time": "2024-12-14T19:42:56.488Z"
   },
   {
    "duration": 9,
    "start_time": "2024-12-14T19:42:56.501Z"
   },
   {
    "duration": 13,
    "start_time": "2024-12-14T19:42:56.512Z"
   },
   {
    "duration": 63,
    "start_time": "2024-12-14T19:42:56.526Z"
   },
   {
    "duration": 12,
    "start_time": "2024-12-14T19:42:56.591Z"
   },
   {
    "duration": 27,
    "start_time": "2024-12-14T19:42:56.605Z"
   },
   {
    "duration": 70,
    "start_time": "2024-12-14T19:50:29.785Z"
   },
   {
    "duration": 5,
    "start_time": "2024-12-14T19:50:53.970Z"
   },
   {
    "duration": 13,
    "start_time": "2024-12-14T19:50:57.746Z"
   },
   {
    "duration": 13,
    "start_time": "2024-12-14T19:51:01.249Z"
   },
   {
    "duration": 50,
    "start_time": "2024-12-15T12:39:03.186Z"
   },
   {
    "duration": 644,
    "start_time": "2024-12-15T12:39:11.350Z"
   },
   {
    "duration": 9,
    "start_time": "2024-12-15T12:39:11.996Z"
   },
   {
    "duration": 18,
    "start_time": "2024-12-15T12:39:12.007Z"
   },
   {
    "duration": 10,
    "start_time": "2024-12-15T12:39:12.027Z"
   },
   {
    "duration": 11,
    "start_time": "2024-12-15T12:39:12.038Z"
   },
   {
    "duration": 4,
    "start_time": "2024-12-15T12:39:12.071Z"
   },
   {
    "duration": 6,
    "start_time": "2024-12-15T12:39:12.076Z"
   },
   {
    "duration": 11,
    "start_time": "2024-12-15T12:39:12.083Z"
   },
   {
    "duration": 17,
    "start_time": "2024-12-15T12:39:12.096Z"
   },
   {
    "duration": 6,
    "start_time": "2024-12-15T12:39:12.115Z"
   },
   {
    "duration": 56,
    "start_time": "2024-12-15T12:39:12.122Z"
   },
   {
    "duration": 49,
    "start_time": "2024-12-15T12:39:12.180Z"
   },
   {
    "duration": 14,
    "start_time": "2024-12-15T12:39:12.231Z"
   },
   {
    "duration": 16,
    "start_time": "2024-12-15T12:39:12.270Z"
   },
   {
    "duration": 34,
    "start_time": "2024-12-15T12:39:12.288Z"
   },
   {
    "duration": 65,
    "start_time": "2024-12-15T12:39:12.324Z"
   },
   {
    "duration": 11,
    "start_time": "2024-12-15T12:39:12.391Z"
   },
   {
    "duration": 24,
    "start_time": "2024-12-15T12:39:12.404Z"
   },
   {
    "duration": 5,
    "start_time": "2024-12-15T12:39:12.430Z"
   },
   {
    "duration": 39,
    "start_time": "2024-12-15T12:39:12.436Z"
   },
   {
    "duration": 20,
    "start_time": "2024-12-15T12:39:12.476Z"
   },
   {
    "duration": 29,
    "start_time": "2024-12-15T12:39:12.498Z"
   },
   {
    "duration": 5,
    "start_time": "2024-12-15T12:39:54.871Z"
   },
   {
    "duration": 594,
    "start_time": "2024-12-15T13:10:04.253Z"
   },
   {
    "duration": 1463,
    "start_time": "2024-12-15T13:12:05.983Z"
   },
   {
    "duration": 5,
    "start_time": "2024-12-15T13:13:03.039Z"
   },
   {
    "duration": 19,
    "start_time": "2024-12-15T13:13:13.444Z"
   },
   {
    "duration": 243,
    "start_time": "2024-12-15T13:14:05.640Z"
   },
   {
    "duration": 215,
    "start_time": "2024-12-15T13:15:02.474Z"
   },
   {
    "duration": 196,
    "start_time": "2024-12-15T13:15:47.688Z"
   },
   {
    "duration": 476,
    "start_time": "2024-12-15T13:16:44.010Z"
   },
   {
    "duration": 10,
    "start_time": "2024-12-15T13:16:44.488Z"
   },
   {
    "duration": 24,
    "start_time": "2024-12-15T13:16:44.499Z"
   },
   {
    "duration": 15,
    "start_time": "2024-12-15T13:16:44.525Z"
   },
   {
    "duration": 28,
    "start_time": "2024-12-15T13:16:44.543Z"
   },
   {
    "duration": 4,
    "start_time": "2024-12-15T13:16:44.573Z"
   },
   {
    "duration": 6,
    "start_time": "2024-12-15T13:16:44.578Z"
   },
   {
    "duration": 14,
    "start_time": "2024-12-15T13:16:44.586Z"
   },
   {
    "duration": 18,
    "start_time": "2024-12-15T13:16:44.602Z"
   },
   {
    "duration": 5,
    "start_time": "2024-12-15T13:16:44.622Z"
   },
   {
    "duration": 47,
    "start_time": "2024-12-15T13:16:44.628Z"
   },
   {
    "duration": 50,
    "start_time": "2024-12-15T13:16:44.677Z"
   },
   {
    "duration": 9,
    "start_time": "2024-12-15T13:16:44.728Z"
   },
   {
    "duration": 34,
    "start_time": "2024-12-15T13:16:44.740Z"
   },
   {
    "duration": 15,
    "start_time": "2024-12-15T13:16:44.776Z"
   },
   {
    "duration": 34,
    "start_time": "2024-12-15T13:16:44.792Z"
   },
   {
    "duration": 10,
    "start_time": "2024-12-15T13:16:44.828Z"
   },
   {
    "duration": 59,
    "start_time": "2024-12-15T13:16:44.840Z"
   },
   {
    "duration": 5,
    "start_time": "2024-12-15T13:16:44.901Z"
   },
   {
    "duration": 14,
    "start_time": "2024-12-15T13:16:44.908Z"
   },
   {
    "duration": 17,
    "start_time": "2024-12-15T13:16:44.923Z"
   },
   {
    "duration": 5,
    "start_time": "2024-12-15T13:16:44.941Z"
   },
   {
    "duration": 219,
    "start_time": "2024-12-15T13:16:44.971Z"
   },
   {
    "duration": 80,
    "start_time": "2024-12-15T13:16:45.192Z"
   },
   {
    "duration": 198,
    "start_time": "2024-12-15T13:21:43.114Z"
   },
   {
    "duration": 4,
    "start_time": "2024-12-15T13:24:30.219Z"
   },
   {
    "duration": 4,
    "start_time": "2024-12-15T13:25:20.146Z"
   },
   {
    "duration": 17,
    "start_time": "2024-12-15T13:25:28.315Z"
   },
   {
    "duration": 73,
    "start_time": "2024-12-15T13:26:15.459Z"
   },
   {
    "duration": 14,
    "start_time": "2024-12-15T13:26:19.746Z"
   },
   {
    "duration": 14,
    "start_time": "2024-12-15T13:27:27.963Z"
   },
   {
    "duration": 8,
    "start_time": "2024-12-15T13:29:45.116Z"
   },
   {
    "duration": 9,
    "start_time": "2024-12-15T13:33:47.203Z"
   },
   {
    "duration": 9,
    "start_time": "2024-12-15T13:34:53.496Z"
   },
   {
    "duration": 9,
    "start_time": "2024-12-15T13:35:47.284Z"
   },
   {
    "duration": 196,
    "start_time": "2024-12-15T13:37:06.772Z"
   },
   {
    "duration": 3,
    "start_time": "2024-12-15T13:38:44.837Z"
   },
   {
    "duration": 7,
    "start_time": "2024-12-15T13:39:25.229Z"
   },
   {
    "duration": 9,
    "start_time": "2024-12-15T13:40:16.819Z"
   },
   {
    "duration": 22,
    "start_time": "2024-12-15T13:40:47.008Z"
   },
   {
    "duration": 7,
    "start_time": "2024-12-15T14:01:46.967Z"
   },
   {
    "duration": 5,
    "start_time": "2024-12-15T14:02:04.069Z"
   },
   {
    "duration": 9,
    "start_time": "2024-12-15T14:02:46.816Z"
   },
   {
    "duration": 8,
    "start_time": "2024-12-15T14:03:04.495Z"
   },
   {
    "duration": 192,
    "start_time": "2024-12-15T14:14:50.282Z"
   },
   {
    "duration": 15,
    "start_time": "2024-12-15T14:16:32.769Z"
   },
   {
    "duration": 614,
    "start_time": "2024-12-15T14:51:09.959Z"
   },
   {
    "duration": 9,
    "start_time": "2024-12-15T14:51:10.575Z"
   },
   {
    "duration": 17,
    "start_time": "2024-12-15T14:51:10.586Z"
   },
   {
    "duration": 11,
    "start_time": "2024-12-15T14:51:10.605Z"
   },
   {
    "duration": 17,
    "start_time": "2024-12-15T14:51:10.618Z"
   },
   {
    "duration": 17,
    "start_time": "2024-12-15T14:51:10.637Z"
   },
   {
    "duration": 10,
    "start_time": "2024-12-15T14:51:10.656Z"
   },
   {
    "duration": 13,
    "start_time": "2024-12-15T14:51:10.667Z"
   },
   {
    "duration": 21,
    "start_time": "2024-12-15T14:51:10.681Z"
   },
   {
    "duration": 6,
    "start_time": "2024-12-15T14:51:10.705Z"
   },
   {
    "duration": 29,
    "start_time": "2024-12-15T14:51:10.713Z"
   },
   {
    "duration": 70,
    "start_time": "2024-12-15T14:51:10.744Z"
   },
   {
    "duration": 9,
    "start_time": "2024-12-15T14:51:10.816Z"
   },
   {
    "duration": 10,
    "start_time": "2024-12-15T14:51:10.827Z"
   },
   {
    "duration": 15,
    "start_time": "2024-12-15T14:51:10.839Z"
   },
   {
    "duration": 44,
    "start_time": "2024-12-15T14:51:10.855Z"
   },
   {
    "duration": 10,
    "start_time": "2024-12-15T14:51:10.901Z"
   },
   {
    "duration": 46,
    "start_time": "2024-12-15T14:51:10.913Z"
   },
   {
    "duration": 5,
    "start_time": "2024-12-15T14:51:10.960Z"
   },
   {
    "duration": 20,
    "start_time": "2024-12-15T14:51:10.967Z"
   },
   {
    "duration": 40,
    "start_time": "2024-12-15T14:51:10.988Z"
   },
   {
    "duration": 16,
    "start_time": "2024-12-15T14:51:11.029Z"
   },
   {
    "duration": 8,
    "start_time": "2024-12-15T14:51:11.047Z"
   },
   {
    "duration": 206,
    "start_time": "2024-12-15T14:51:11.057Z"
   },
   {
    "duration": 202,
    "start_time": "2024-12-15T14:51:11.265Z"
   },
   {
    "duration": 8,
    "start_time": "2024-12-15T14:51:11.469Z"
   },
   {
    "duration": 13,
    "start_time": "2024-12-15T14:51:11.478Z"
   },
   {
    "duration": 10,
    "start_time": "2024-12-15T14:51:11.494Z"
   },
   {
    "duration": 409,
    "start_time": "2024-12-15T17:42:06.190Z"
   },
   {
    "duration": 68,
    "start_time": "2024-12-15T17:42:17.945Z"
   },
   {
    "duration": 102,
    "start_time": "2024-12-15T17:42:24.426Z"
   },
   {
    "duration": 17,
    "start_time": "2024-12-15T17:42:26.233Z"
   },
   {
    "duration": 9,
    "start_time": "2024-12-15T17:44:28.290Z"
   },
   {
    "duration": 8,
    "start_time": "2024-12-15T17:44:38.178Z"
   },
   {
    "duration": 41,
    "start_time": "2024-12-15T17:44:57.236Z"
   },
   {
    "duration": 9,
    "start_time": "2024-12-15T17:46:12.153Z"
   },
   {
    "duration": 4,
    "start_time": "2024-12-15T17:46:51.698Z"
   },
   {
    "duration": 4,
    "start_time": "2024-12-15T17:47:13.019Z"
   },
   {
    "duration": 9,
    "start_time": "2024-12-15T17:48:34.330Z"
   },
   {
    "duration": 9,
    "start_time": "2024-12-15T17:48:36.321Z"
   },
   {
    "duration": 13,
    "start_time": "2024-12-15T17:48:57.723Z"
   },
   {
    "duration": 12,
    "start_time": "2024-12-15T17:51:45.121Z"
   },
   {
    "duration": 14,
    "start_time": "2024-12-15T17:54:10.339Z"
   },
   {
    "duration": 9,
    "start_time": "2024-12-15T17:55:37.004Z"
   },
   {
    "duration": 4,
    "start_time": "2024-12-15T17:57:30.739Z"
   },
   {
    "duration": 10,
    "start_time": "2024-12-15T17:59:48.499Z"
   },
   {
    "duration": 13,
    "start_time": "2024-12-15T18:00:46.213Z"
   },
   {
    "duration": 42,
    "start_time": "2024-12-15T18:05:21.064Z"
   },
   {
    "duration": 43,
    "start_time": "2024-12-15T18:06:11.172Z"
   },
   {
    "duration": 48,
    "start_time": "2024-12-15T18:12:41.662Z"
   },
   {
    "duration": 169,
    "start_time": "2024-12-15T18:17:08.116Z"
   },
   {
    "duration": 18,
    "start_time": "2024-12-15T18:18:25.357Z"
   },
   {
    "duration": 24,
    "start_time": "2024-12-15T18:18:40.653Z"
   },
   {
    "duration": 12,
    "start_time": "2024-12-15T18:19:09.829Z"
   },
   {
    "duration": 19,
    "start_time": "2024-12-15T18:19:29.654Z"
   },
   {
    "duration": 7,
    "start_time": "2024-12-15T18:21:49.462Z"
   },
   {
    "duration": 17,
    "start_time": "2024-12-15T18:23:06.623Z"
   },
   {
    "duration": 38,
    "start_time": "2024-12-15T18:23:21.158Z"
   },
   {
    "duration": 335,
    "start_time": "2024-12-15T18:23:41.864Z"
   },
   {
    "duration": 49,
    "start_time": "2024-12-15T18:23:42.201Z"
   },
   {
    "duration": 18,
    "start_time": "2024-12-15T18:23:42.251Z"
   },
   {
    "duration": 7,
    "start_time": "2024-12-15T18:23:42.270Z"
   },
   {
    "duration": 14,
    "start_time": "2024-12-15T18:23:42.278Z"
   },
   {
    "duration": 11,
    "start_time": "2024-12-15T18:23:42.293Z"
   },
   {
    "duration": 20,
    "start_time": "2024-12-15T18:23:42.305Z"
   },
   {
    "duration": 8,
    "start_time": "2024-12-15T18:23:42.327Z"
   },
   {
    "duration": 19,
    "start_time": "2024-12-15T18:23:42.336Z"
   },
   {
    "duration": 6,
    "start_time": "2024-12-15T18:23:42.357Z"
   },
   {
    "duration": 7,
    "start_time": "2024-12-15T18:23:42.364Z"
   },
   {
    "duration": 12,
    "start_time": "2024-12-15T18:23:42.372Z"
   },
   {
    "duration": 10,
    "start_time": "2024-12-15T18:23:42.386Z"
   },
   {
    "duration": 26,
    "start_time": "2024-12-15T18:23:42.398Z"
   },
   {
    "duration": 12,
    "start_time": "2024-12-15T18:23:42.425Z"
   },
   {
    "duration": 6,
    "start_time": "2024-12-15T18:23:42.438Z"
   },
   {
    "duration": 41,
    "start_time": "2024-12-15T18:23:42.445Z"
   },
   {
    "duration": 148,
    "start_time": "2024-12-15T18:23:42.487Z"
   },
   {
    "duration": 7,
    "start_time": "2024-12-15T18:23:42.637Z"
   },
   {
    "duration": 12,
    "start_time": "2024-12-15T18:23:42.645Z"
   },
   {
    "duration": 10,
    "start_time": "2024-12-15T18:23:42.658Z"
   },
   {
    "duration": 44,
    "start_time": "2024-12-15T18:23:42.670Z"
   },
   {
    "duration": 9,
    "start_time": "2024-12-15T18:23:42.715Z"
   },
   {
    "duration": 20,
    "start_time": "2024-12-15T18:23:42.725Z"
   },
   {
    "duration": 4,
    "start_time": "2024-12-15T18:23:42.746Z"
   },
   {
    "duration": 17,
    "start_time": "2024-12-15T18:23:42.751Z"
   },
   {
    "duration": 12,
    "start_time": "2024-12-15T18:23:42.771Z"
   },
   {
    "duration": 11,
    "start_time": "2024-12-15T18:23:42.814Z"
   },
   {
    "duration": 7,
    "start_time": "2024-12-15T18:23:42.826Z"
   },
   {
    "duration": 189,
    "start_time": "2024-12-15T18:23:42.834Z"
   },
   {
    "duration": 190,
    "start_time": "2024-12-15T18:23:43.025Z"
   },
   {
    "duration": 8,
    "start_time": "2024-12-15T18:23:43.217Z"
   },
   {
    "duration": 8,
    "start_time": "2024-12-15T18:23:43.226Z"
   },
   {
    "duration": 7,
    "start_time": "2024-12-15T18:23:43.235Z"
   },
   {
    "duration": 141,
    "start_time": "2024-12-15T18:23:57.958Z"
   },
   {
    "duration": 8,
    "start_time": "2024-12-15T18:24:24.077Z"
   },
   {
    "duration": 76,
    "start_time": "2024-12-15T18:24:36.566Z"
   },
   {
    "duration": 19,
    "start_time": "2024-12-15T18:24:55.821Z"
   },
   {
    "duration": 19,
    "start_time": "2024-12-15T18:25:28.846Z"
   },
   {
    "duration": 146,
    "start_time": "2024-12-15T18:27:17.502Z"
   },
   {
    "duration": 17,
    "start_time": "2024-12-15T18:28:30.814Z"
   },
   {
    "duration": 13,
    "start_time": "2024-12-15T18:30:23.431Z"
   },
   {
    "duration": 22,
    "start_time": "2024-12-15T18:30:55.023Z"
   },
   {
    "duration": 16,
    "start_time": "2024-12-15T18:31:01.671Z"
   },
   {
    "duration": 18,
    "start_time": "2024-12-15T18:31:32.487Z"
   },
   {
    "duration": 142,
    "start_time": "2024-12-15T18:32:59.280Z"
   },
   {
    "duration": 7,
    "start_time": "2024-12-15T18:33:25.762Z"
   },
   {
    "duration": 8,
    "start_time": "2024-12-15T18:33:38.759Z"
   },
   {
    "duration": 140,
    "start_time": "2024-12-15T18:34:09.119Z"
   },
   {
    "duration": 7,
    "start_time": "2024-12-15T18:34:10.974Z"
   },
   {
    "duration": 144,
    "start_time": "2024-12-15T18:37:25.415Z"
   },
   {
    "duration": 7,
    "start_time": "2024-12-15T18:37:27.072Z"
   },
   {
    "duration": 12,
    "start_time": "2024-12-15T18:41:32.692Z"
   },
   {
    "duration": 6,
    "start_time": "2024-12-15T18:42:38.170Z"
   },
   {
    "duration": 14,
    "start_time": "2024-12-15T18:42:39.570Z"
   },
   {
    "duration": 10,
    "start_time": "2024-12-15T18:42:39.865Z"
   },
   {
    "duration": 21,
    "start_time": "2024-12-15T18:45:05.258Z"
   },
   {
    "duration": 9,
    "start_time": "2024-12-15T18:45:34.410Z"
   },
   {
    "duration": 80,
    "start_time": "2024-12-15T19:04:41.332Z"
   },
   {
    "duration": 351,
    "start_time": "2024-12-15T19:04:52.204Z"
   },
   {
    "duration": 4,
    "start_time": "2024-12-15T19:09:22.708Z"
   },
   {
    "duration": 69,
    "start_time": "2024-12-15T19:09:22.714Z"
   },
   {
    "duration": 14,
    "start_time": "2024-12-15T19:09:22.786Z"
   },
   {
    "duration": 6,
    "start_time": "2024-12-15T19:09:22.802Z"
   },
   {
    "duration": 42,
    "start_time": "2024-12-15T19:09:22.811Z"
   },
   {
    "duration": 16,
    "start_time": "2024-12-15T19:09:22.857Z"
   },
   {
    "duration": 33,
    "start_time": "2024-12-15T19:09:22.875Z"
   },
   {
    "duration": 53,
    "start_time": "2024-12-15T19:09:22.910Z"
   },
   {
    "duration": 10,
    "start_time": "2024-12-15T19:09:22.965Z"
   },
   {
    "duration": 21,
    "start_time": "2024-12-15T19:09:22.977Z"
   },
   {
    "duration": 27,
    "start_time": "2024-12-15T19:09:23.000Z"
   },
   {
    "duration": 24,
    "start_time": "2024-12-15T19:09:23.029Z"
   },
   {
    "duration": 13,
    "start_time": "2024-12-15T19:09:23.055Z"
   },
   {
    "duration": 15,
    "start_time": "2024-12-15T19:09:23.070Z"
   },
   {
    "duration": 60,
    "start_time": "2024-12-15T19:09:23.087Z"
   },
   {
    "duration": 21,
    "start_time": "2024-12-15T19:09:23.149Z"
   },
   {
    "duration": 109,
    "start_time": "2024-12-15T19:09:35.495Z"
   },
   {
    "duration": 77,
    "start_time": "2024-12-15T19:09:59.421Z"
   },
   {
    "duration": 32,
    "start_time": "2024-12-15T19:10:07.437Z"
   },
   {
    "duration": 10,
    "start_time": "2024-12-15T19:10:14.373Z"
   },
   {
    "duration": 23,
    "start_time": "2024-12-15T19:10:36.736Z"
   },
   {
    "duration": 1314,
    "start_time": "2024-12-15T19:10:57.208Z"
   },
   {
    "duration": 23,
    "start_time": "2024-12-15T19:11:14.879Z"
   },
   {
    "duration": 11,
    "start_time": "2024-12-15T19:11:37.897Z"
   },
   {
    "duration": 10,
    "start_time": "2024-12-15T19:11:50.670Z"
   },
   {
    "duration": 14,
    "start_time": "2024-12-15T19:12:35.250Z"
   },
   {
    "duration": 21,
    "start_time": "2024-12-15T19:13:22.138Z"
   },
   {
    "duration": 3,
    "start_time": "2024-12-15T19:16:07.569Z"
   },
   {
    "duration": 72,
    "start_time": "2024-12-15T19:16:07.574Z"
   },
   {
    "duration": 15,
    "start_time": "2024-12-15T19:16:07.648Z"
   },
   {
    "duration": 10,
    "start_time": "2024-12-15T19:16:07.664Z"
   },
   {
    "duration": 25,
    "start_time": "2024-12-15T19:16:07.676Z"
   },
   {
    "duration": 15,
    "start_time": "2024-12-15T19:16:07.703Z"
   },
   {
    "duration": 24,
    "start_time": "2024-12-15T19:16:07.720Z"
   },
   {
    "duration": 38,
    "start_time": "2024-12-15T19:16:07.746Z"
   },
   {
    "duration": 11,
    "start_time": "2024-12-15T19:16:07.785Z"
   },
   {
    "duration": 34,
    "start_time": "2024-12-15T19:16:07.797Z"
   },
   {
    "duration": 8,
    "start_time": "2024-12-15T19:16:07.835Z"
   },
   {
    "duration": 14,
    "start_time": "2024-12-15T19:16:07.846Z"
   },
   {
    "duration": 15,
    "start_time": "2024-12-15T19:16:07.861Z"
   },
   {
    "duration": 18,
    "start_time": "2024-12-15T19:16:07.877Z"
   },
   {
    "duration": 41,
    "start_time": "2024-12-15T19:16:07.897Z"
   },
   {
    "duration": 16,
    "start_time": "2024-12-15T19:16:07.940Z"
   },
   {
    "duration": 16,
    "start_time": "2024-12-15T19:16:07.958Z"
   },
   {
    "duration": 11,
    "start_time": "2024-12-15T19:16:07.976Z"
   },
   {
    "duration": 0,
    "start_time": "2024-12-15T19:16:07.988Z"
   },
   {
    "duration": 27,
    "start_time": "2024-12-15T19:16:23.254Z"
   },
   {
    "duration": 26,
    "start_time": "2024-12-15T19:16:30.897Z"
   },
   {
    "duration": 3,
    "start_time": "2024-12-15T19:20:16.242Z"
   },
   {
    "duration": 66,
    "start_time": "2024-12-15T19:20:16.247Z"
   },
   {
    "duration": 14,
    "start_time": "2024-12-15T19:20:16.314Z"
   },
   {
    "duration": 21,
    "start_time": "2024-12-15T19:20:16.331Z"
   },
   {
    "duration": 20,
    "start_time": "2024-12-15T19:20:16.354Z"
   },
   {
    "duration": 17,
    "start_time": "2024-12-15T19:20:16.376Z"
   },
   {
    "duration": 14,
    "start_time": "2024-12-15T19:20:16.395Z"
   },
   {
    "duration": 56,
    "start_time": "2024-12-15T19:20:16.411Z"
   },
   {
    "duration": 12,
    "start_time": "2024-12-15T19:20:16.469Z"
   },
   {
    "duration": 28,
    "start_time": "2024-12-15T19:20:16.482Z"
   },
   {
    "duration": 4,
    "start_time": "2024-12-15T19:20:16.512Z"
   },
   {
    "duration": 26,
    "start_time": "2024-12-15T19:20:16.517Z"
   },
   {
    "duration": 12,
    "start_time": "2024-12-15T19:20:16.545Z"
   },
   {
    "duration": 15,
    "start_time": "2024-12-15T19:20:16.559Z"
   },
   {
    "duration": 32,
    "start_time": "2024-12-15T19:20:16.575Z"
   },
   {
    "duration": 28,
    "start_time": "2024-12-15T19:20:16.609Z"
   },
   {
    "duration": 19,
    "start_time": "2024-12-15T19:20:16.640Z"
   },
   {
    "duration": 10,
    "start_time": "2024-12-15T19:20:16.661Z"
   },
   {
    "duration": 0,
    "start_time": "2024-12-15T19:20:16.673Z"
   },
   {
    "duration": 0,
    "start_time": "2024-12-15T19:20:16.674Z"
   },
   {
    "duration": 0,
    "start_time": "2024-12-15T19:20:16.676Z"
   },
   {
    "duration": 0,
    "start_time": "2024-12-15T19:20:16.677Z"
   },
   {
    "duration": 0,
    "start_time": "2024-12-15T19:20:16.678Z"
   },
   {
    "duration": 0,
    "start_time": "2024-12-15T19:20:16.678Z"
   },
   {
    "duration": 0,
    "start_time": "2024-12-15T19:20:16.680Z"
   },
   {
    "duration": 0,
    "start_time": "2024-12-15T19:20:16.680Z"
   },
   {
    "duration": 0,
    "start_time": "2024-12-15T19:20:16.682Z"
   },
   {
    "duration": 6,
    "start_time": "2024-12-15T19:20:27.886Z"
   },
   {
    "duration": 29,
    "start_time": "2024-12-15T19:20:28.745Z"
   },
   {
    "duration": 173,
    "start_time": "2024-12-15T19:20:28.897Z"
   },
   {
    "duration": 8,
    "start_time": "2024-12-15T19:20:29.072Z"
   },
   {
    "duration": 9,
    "start_time": "2024-12-15T19:20:30.648Z"
   },
   {
    "duration": 10,
    "start_time": "2024-12-15T19:20:30.919Z"
   },
   {
    "duration": 15,
    "start_time": "2024-12-15T19:20:33.985Z"
   },
   {
    "duration": 14,
    "start_time": "2024-12-15T19:20:34.319Z"
   },
   {
    "duration": 25,
    "start_time": "2024-12-15T19:20:34.704Z"
   },
   {
    "duration": 21,
    "start_time": "2024-12-15T19:20:37.727Z"
   },
   {
    "duration": 52,
    "start_time": "2024-12-16T09:50:17.979Z"
   },
   {
    "duration": 378,
    "start_time": "2024-12-16T09:50:22.703Z"
   },
   {
    "duration": 201,
    "start_time": "2024-12-16T09:50:23.083Z"
   },
   {
    "duration": 20,
    "start_time": "2024-12-16T09:50:23.286Z"
   },
   {
    "duration": 23,
    "start_time": "2024-12-16T09:50:23.308Z"
   },
   {
    "duration": 36,
    "start_time": "2024-12-16T09:50:23.333Z"
   },
   {
    "duration": 29,
    "start_time": "2024-12-16T09:50:23.371Z"
   },
   {
    "duration": 35,
    "start_time": "2024-12-16T09:50:23.402Z"
   },
   {
    "duration": 498,
    "start_time": "2024-12-16T09:50:23.438Z"
   },
   {
    "duration": 11,
    "start_time": "2024-12-16T09:50:23.938Z"
   },
   {
    "duration": 60,
    "start_time": "2024-12-16T09:50:23.951Z"
   },
   {
    "duration": 25,
    "start_time": "2024-12-16T09:50:24.013Z"
   },
   {
    "duration": 48,
    "start_time": "2024-12-16T09:50:24.040Z"
   },
   {
    "duration": 39,
    "start_time": "2024-12-16T09:50:24.090Z"
   },
   {
    "duration": 32,
    "start_time": "2024-12-16T09:50:24.131Z"
   },
   {
    "duration": 47,
    "start_time": "2024-12-16T09:50:24.165Z"
   },
   {
    "duration": 29,
    "start_time": "2024-12-16T09:50:24.213Z"
   },
   {
    "duration": 53,
    "start_time": "2024-12-16T09:50:24.243Z"
   },
   {
    "duration": 17,
    "start_time": "2024-12-16T09:50:24.298Z"
   },
   {
    "duration": 1475,
    "start_time": "2024-12-16T09:50:24.317Z"
   },
   {
    "duration": 1496,
    "start_time": "2024-12-16T09:50:26.702Z"
   }
  ],
  "colab": {
   "provenance": []
  },
  "kernelspec": {
   "display_name": "anaconda-panel-2023.05-py310",
   "language": "python",
   "name": "conda-env-anaconda-panel-2023.05-py310-py"
  },
  "language_info": {
   "codemirror_mode": {
    "name": "ipython",
    "version": 3
   },
   "file_extension": ".py",
   "mimetype": "text/x-python",
   "name": "python",
   "nbconvert_exporter": "python",
   "pygments_lexer": "ipython3",
   "version": "3.11.5"
  },
  "toc": {
   "base_numbering": 1,
   "nav_menu": {},
   "number_sections": true,
   "sideBar": true,
   "skip_h1_title": true,
   "title_cell": "Table of Contents",
   "title_sidebar": "Contents",
   "toc_cell": false,
   "toc_position": {},
   "toc_section_display": true,
   "toc_window_display": false
  }
 },
 "nbformat": 4,
 "nbformat_minor": 5
}
